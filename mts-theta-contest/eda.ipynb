{
 "cells": [
  {
   "cell_type": "code",
   "execution_count": 1,
   "id": "adverse-hampton",
   "metadata": {
    "_cell_guid": "b1076dfc-b9ad-4769-8c92-a6c4dae69d19",
    "_uuid": "8f2839f25d086af736a60e9eeb907d3b93b6e0e5",
    "execution": {
     "iopub.execute_input": "2021-05-03T20:33:01.291601Z",
     "iopub.status.busy": "2021-05-03T20:33:01.291017Z",
     "iopub.status.idle": "2021-05-03T20:33:02.317209Z",
     "shell.execute_reply": "2021-05-03T20:33:02.317825Z"
    },
    "papermill": {
     "duration": 1.073307,
     "end_time": "2021-05-03T20:33:02.318141",
     "exception": false,
     "start_time": "2021-05-03T20:33:01.244834",
     "status": "completed"
    },
    "tags": []
   },
   "outputs": [],
   "source": [
    "# This Python 3 environment comes with many helpful analytics libraries installed\n",
    "# It is defined by the kaggle/python Docker image: https://github.com/kaggle/docker-python\n",
    "# For example, here's several helpful packages to load\n",
    "\n",
    "import numpy as np # linear algebra\n",
    "import pandas as pd # data processing, CSV file I/O (e.g. pd.read_csv)\n",
    "import matplotlib.pyplot as plt\n",
    "%matplotlib inline\n",
    "import seaborn as sns\n",
    "from collections import Counter\n",
    "\n",
    "# Input data files are available in the read-only \"../input/\" directory\n",
    "# For example, running this (by clicking run or pressing Shift+Enter) will list all files under the input directory\n",
    "\n",
    "import os\n",
    "for dirname, _, filenames in os.walk('/kaggle/input'):\n",
    "    for filename in filenames:\n",
    "        print(os.path.join(dirname, filename))\n",
    "\n",
    "# You can write up to 20GB to the current directory (/kaggle/working/) that gets preserved as output when you create a version using \"Save & Run All\" \n",
    "# You can also write temporary files to /kaggle/temp/, but they won't be saved outside of the current session"
   ]
  },
  {
   "cell_type": "markdown",
   "id": "attached-offer",
   "metadata": {
    "papermill": {
     "duration": 0.036393,
     "end_time": "2021-05-03T20:33:02.392379",
     "exception": false,
     "start_time": "2021-05-03T20:33:02.355986",
     "status": "completed"
    },
    "tags": []
   },
   "source": [
    "# MTS.Teta Summer school"
   ]
  },
  {
   "cell_type": "markdown",
   "id": "appointed-temperature",
   "metadata": {
    "papermill": {
     "duration": 0.036376,
     "end_time": "2021-05-03T20:33:02.465657",
     "exception": false,
     "start_time": "2021-05-03T20:33:02.429281",
     "status": "completed"
    },
    "tags": []
   },
   "source": [
    "Данные из приложения МТС Библиотека по взаимодействиям пользователей с книгами за 2 года.\n",
    "\n",
    "В отдельных файлах есть:\n",
    "\n",
    "* факты чтения книг пользователями\n",
    "* описание книг\n",
    "* описание пользователей\n"
   ]
  },
  {
   "cell_type": "markdown",
   "id": "intellectual-analyst",
   "metadata": {
    "papermill": {
     "duration": 0.038157,
     "end_time": "2021-05-03T20:33:02.543276",
     "exception": false,
     "start_time": "2021-05-03T20:33:02.505119",
     "status": "completed"
    },
    "tags": []
   },
   "source": [
    "<b>Описание данных: </b>\n",
    "\n",
    "В датасете собраны данные по пользователям и книгам, а также по их взаимодействиям (прочтение книги пользователем) из сервиса МТС Библиотека. Данные по чтению пользователями книг собраны за 2 два года, с 01-01-2018 по 31-12-2019 включительно, и разбавлены случайным шумом. ID пользователей и книг анонимизированы.\n",
    "\n",
    "МТС Библиотека - приложение для чтения электронных книг, прессы и прослушивания аудиокниг, доступно для абонентов всех мобильных операторов, продукт экосистемы МТС. "
   ]
  },
  {
   "cell_type": "markdown",
   "id": "reliable-brunswick",
   "metadata": {
    "papermill": {
     "duration": 0.037778,
     "end_time": "2021-05-03T20:33:02.619683",
     "exception": false,
     "start_time": "2021-05-03T20:33:02.581905",
     "status": "completed"
    },
    "tags": []
   },
   "source": [
    "<b> Задача: </b>\n",
    "\n",
    "Необходимо наиболее точно порекомендовать список из 10 книг для каждого пользователя из тестовой выборки. На платформе соревнования хранится тестовая выборка с реальными данными (пользователями и книгами, которые они прочитали за эти 2 дня). Данные скрыты. Kaggle посчитает метрику качества вашего предсказания: насколько оно совпадает с реальными данными"
   ]
  },
  {
   "cell_type": "markdown",
   "id": "certain-plymouth",
   "metadata": {
    "papermill": {
     "duration": 0.037941,
     "end_time": "2021-05-03T20:33:02.695628",
     "exception": false,
     "start_time": "2021-05-03T20:33:02.657687",
     "status": "completed"
    },
    "tags": []
   },
   "source": [
    "<b> Метрика качества: </b>   \n",
    "Метрика качества в соревновании - map@10 илиmap@K, K = 10."
   ]
  },
  {
   "cell_type": "markdown",
   "id": "organic-wallace",
   "metadata": {
    "papermill": {
     "duration": 0.037884,
     "end_time": "2021-05-03T20:33:02.771354",
     "exception": false,
     "start_time": "2021-05-03T20:33:02.733470",
     "status": "completed"
    },
    "tags": []
   },
   "source": [
    "Формат файла sample_submission.csv:\n",
    "* Id - список ID пользователей, по которым нужно сделать прогноз\n",
    "* Predicted - список ID книг, которые нужно предсказать. Это строка, где разделитель для ID - это пробел.\n"
   ]
  },
  {
   "cell_type": "markdown",
   "id": "narrative-provision",
   "metadata": {
    "papermill": {
     "duration": 0.037326,
     "end_time": "2021-05-03T20:33:02.846696",
     "exception": false,
     "start_time": "2021-05-03T20:33:02.809370",
     "status": "completed"
    },
    "tags": []
   },
   "source": [
    "<b> Необходимые для работы библиотеки и данные. </b>"
   ]
  },
  {
   "cell_type": "code",
   "execution_count": 3,
   "id": "optical-medium",
   "metadata": {
    "execution": {
     "iopub.execute_input": "2021-05-03T20:33:02.928124Z",
     "iopub.status.busy": "2021-05-03T20:33:02.927270Z",
     "iopub.status.idle": "2021-05-03T20:33:04.817713Z",
     "shell.execute_reply": "2021-05-03T20:33:04.818182Z"
    },
    "papermill": {
     "duration": 1.933636,
     "end_time": "2021-05-03T20:33:04.818373",
     "exception": false,
     "start_time": "2021-05-03T20:33:02.884737",
     "status": "completed"
    },
    "tags": []
   },
   "outputs": [],
   "source": [
    "sample = pd.read_csv(\"input/sample_submission.csv\")\n",
    "interactions = pd.read_csv(\"input/interactions.csv\")\n",
    "items = pd.read_csv(\"input/items.csv\")\n",
    "users = pd.read_csv(\"input/users.csv\")"
   ]
  },
  {
   "cell_type": "code",
   "execution_count": 3,
   "id": "demographic-pledge",
   "metadata": {
    "execution": {
     "iopub.execute_input": "2021-05-03T20:33:04.896086Z",
     "iopub.status.busy": "2021-05-03T20:33:04.895499Z",
     "iopub.status.idle": "2021-05-03T20:33:05.126649Z",
     "shell.execute_reply": "2021-05-03T20:33:05.127157Z"
    },
    "papermill": {
     "duration": 0.271437,
     "end_time": "2021-05-03T20:33:05.127360",
     "exception": false,
     "start_time": "2021-05-03T20:33:04.855923",
     "status": "completed"
    },
    "tags": []
   },
   "outputs": [],
   "source": [
    "interactions['start_date'] = pd.to_datetime(interactions['start_date'])"
   ]
  },
  {
   "cell_type": "markdown",
   "id": "fluid-wheat",
   "metadata": {
    "papermill": {
     "duration": 0.037214,
     "end_time": "2021-05-03T20:33:05.202565",
     "exception": false,
     "start_time": "2021-05-03T20:33:05.165351",
     "status": "completed"
    },
    "tags": []
   },
   "source": [
    "## Информация о пользователях"
   ]
  },
  {
   "cell_type": "code",
   "execution_count": 4,
   "id": "adjustable-usage",
   "metadata": {
    "execution": {
     "iopub.execute_input": "2021-05-03T20:33:05.284161Z",
     "iopub.status.busy": "2021-05-03T20:33:05.283508Z",
     "iopub.status.idle": "2021-05-03T20:33:05.297749Z",
     "shell.execute_reply": "2021-05-03T20:33:05.297158Z"
    },
    "papermill": {
     "duration": 0.05776,
     "end_time": "2021-05-03T20:33:05.297899",
     "exception": false,
     "start_time": "2021-05-03T20:33:05.240139",
     "status": "completed"
    },
    "tags": []
   },
   "outputs": [
    {
     "data": {
      "text/html": [
       "<div>\n",
       "<style scoped>\n",
       "    .dataframe tbody tr th:only-of-type {\n",
       "        vertical-align: middle;\n",
       "    }\n",
       "\n",
       "    .dataframe tbody tr th {\n",
       "        vertical-align: top;\n",
       "    }\n",
       "\n",
       "    .dataframe thead th {\n",
       "        text-align: right;\n",
       "    }\n",
       "</style>\n",
       "<table border=\"1\" class=\"dataframe\">\n",
       "  <thead>\n",
       "    <tr style=\"text-align: right;\">\n",
       "      <th></th>\n",
       "      <th>user_id</th>\n",
       "      <th>age</th>\n",
       "      <th>sex</th>\n",
       "    </tr>\n",
       "  </thead>\n",
       "  <tbody>\n",
       "    <tr>\n",
       "      <th>0</th>\n",
       "      <td>0</td>\n",
       "      <td>45_54</td>\n",
       "      <td>1.0</td>\n",
       "    </tr>\n",
       "    <tr>\n",
       "      <th>1</th>\n",
       "      <td>1</td>\n",
       "      <td>25_34</td>\n",
       "      <td>0.0</td>\n",
       "    </tr>\n",
       "    <tr>\n",
       "      <th>2</th>\n",
       "      <td>2</td>\n",
       "      <td>45_54</td>\n",
       "      <td>0.0</td>\n",
       "    </tr>\n",
       "  </tbody>\n",
       "</table>\n",
       "</div>"
      ],
      "text/plain": [
       "   user_id    age  sex\n",
       "0        0  45_54  1.0\n",
       "1        1  25_34  0.0\n",
       "2        2  45_54  0.0"
      ]
     },
     "execution_count": 4,
     "metadata": {},
     "output_type": "execute_result"
    }
   ],
   "source": [
    "users.head(3)"
   ]
  },
  {
   "cell_type": "code",
   "execution_count": 5,
   "id": "middle-television",
   "metadata": {
    "execution": {
     "iopub.execute_input": "2021-05-03T20:33:05.379034Z",
     "iopub.status.busy": "2021-05-03T20:33:05.378135Z",
     "iopub.status.idle": "2021-05-03T20:33:05.399846Z",
     "shell.execute_reply": "2021-05-03T20:33:05.399365Z"
    },
    "papermill": {
     "duration": 0.06435,
     "end_time": "2021-05-03T20:33:05.400003",
     "exception": false,
     "start_time": "2021-05-03T20:33:05.335653",
     "status": "completed"
    },
    "tags": []
   },
   "outputs": [
    {
     "name": "stdout",
     "output_type": "stream",
     "text": [
      "<class 'pandas.core.frame.DataFrame'>\n",
      "RangeIndex: 137254 entries, 0 to 137253\n",
      "Data columns (total 3 columns):\n",
      " #   Column   Non-Null Count   Dtype  \n",
      "---  ------   --------------   -----  \n",
      " 0   user_id  137254 non-null  int64  \n",
      " 1   age      137244 non-null  object \n",
      " 2   sex      135640 non-null  float64\n",
      "dtypes: float64(1), int64(1), object(1)\n",
      "memory usage: 3.1+ MB\n"
     ]
    }
   ],
   "source": [
    "users.info()"
   ]
  },
  {
   "cell_type": "markdown",
   "id": "turkish-response",
   "metadata": {
    "papermill": {
     "duration": 0.037744,
     "end_time": "2021-05-03T20:33:05.476006",
     "exception": false,
     "start_time": "2021-05-03T20:33:05.438262",
     "status": "completed"
    },
    "tags": []
   },
   "source": [
    "<b> Есть несколько пропущенных значений. Можно заменить наиболее частым значением. </b>"
   ]
  },
  {
   "cell_type": "code",
   "execution_count": 6,
   "id": "dangerous-nitrogen",
   "metadata": {
    "execution": {
     "iopub.execute_input": "2021-05-03T20:33:05.556025Z",
     "iopub.status.busy": "2021-05-03T20:33:05.555487Z",
     "iopub.status.idle": "2021-05-03T20:33:05.563050Z",
     "shell.execute_reply": "2021-05-03T20:33:05.563475Z"
    },
    "papermill": {
     "duration": 0.049529,
     "end_time": "2021-05-03T20:33:05.563641",
     "exception": false,
     "start_time": "2021-05-03T20:33:05.514112",
     "status": "completed"
    },
    "tags": []
   },
   "outputs": [
    {
     "data": {
      "text/plain": [
       "0.0    99392\n",
       "1.0    36248\n",
       "Name: sex, dtype: int64"
      ]
     },
     "execution_count": 6,
     "metadata": {},
     "output_type": "execute_result"
    }
   ],
   "source": [
    "users.sex.value_counts() # удивительно, что мужчин настолько много"
   ]
  },
  {
   "cell_type": "code",
   "execution_count": 7,
   "id": "possible-consideration",
   "metadata": {
    "execution": {
     "iopub.execute_input": "2021-05-03T20:33:05.646816Z",
     "iopub.status.busy": "2021-05-03T20:33:05.645126Z",
     "iopub.status.idle": "2021-05-03T20:33:05.717902Z",
     "shell.execute_reply": "2021-05-03T20:33:05.717422Z"
    },
    "papermill": {
     "duration": 0.115998,
     "end_time": "2021-05-03T20:33:05.718048",
     "exception": false,
     "start_time": "2021-05-03T20:33:05.602050",
     "status": "completed"
    },
    "tags": []
   },
   "outputs": [
    {
     "data": {
      "text/html": [
       "<div>\n",
       "<style scoped>\n",
       "    .dataframe tbody tr th:only-of-type {\n",
       "        vertical-align: middle;\n",
       "    }\n",
       "\n",
       "    .dataframe tbody tr th {\n",
       "        vertical-align: top;\n",
       "    }\n",
       "\n",
       "    .dataframe thead th {\n",
       "        text-align: right;\n",
       "    }\n",
       "</style>\n",
       "<table border=\"1\" class=\"dataframe\">\n",
       "  <thead>\n",
       "    <tr style=\"text-align: right;\">\n",
       "      <th>age</th>\n",
       "      <th>18_24</th>\n",
       "      <th>25_34</th>\n",
       "      <th>35_44</th>\n",
       "      <th>45_54</th>\n",
       "      <th>55_64</th>\n",
       "      <th>65_inf</th>\n",
       "    </tr>\n",
       "    <tr>\n",
       "      <th>sex</th>\n",
       "      <th></th>\n",
       "      <th></th>\n",
       "      <th></th>\n",
       "      <th></th>\n",
       "      <th></th>\n",
       "      <th></th>\n",
       "    </tr>\n",
       "  </thead>\n",
       "  <tbody>\n",
       "    <tr>\n",
       "      <th>0.0</th>\n",
       "      <td>78.34</td>\n",
       "      <td>75.59</td>\n",
       "      <td>71.74</td>\n",
       "      <td>69.12</td>\n",
       "      <td>67.55</td>\n",
       "      <td>69.96</td>\n",
       "    </tr>\n",
       "    <tr>\n",
       "      <th>1.0</th>\n",
       "      <td>21.66</td>\n",
       "      <td>24.41</td>\n",
       "      <td>28.26</td>\n",
       "      <td>30.88</td>\n",
       "      <td>32.45</td>\n",
       "      <td>30.04</td>\n",
       "    </tr>\n",
       "  </tbody>\n",
       "</table>\n",
       "</div>"
      ],
      "text/plain": [
       "age  18_24  25_34  35_44  45_54  55_64  65_inf\n",
       "sex                                           \n",
       "0.0  78.34  75.59  71.74  69.12  67.55   69.96\n",
       "1.0  21.66  24.41  28.26  30.88  32.45   30.04"
      ]
     },
     "execution_count": 7,
     "metadata": {},
     "output_type": "execute_result"
    }
   ],
   "source": [
    "round(pd.crosstab(users.sex,users.age)/users.groupby('age')['sex'].count().values*100,2)"
   ]
  },
  {
   "cell_type": "code",
   "execution_count": 8,
   "id": "victorian-suggestion",
   "metadata": {
    "execution": {
     "iopub.execute_input": "2021-05-03T20:33:05.806600Z",
     "iopub.status.busy": "2021-05-03T20:33:05.806033Z",
     "iopub.status.idle": "2021-05-03T20:33:06.202482Z",
     "shell.execute_reply": "2021-05-03T20:33:06.202018Z"
    },
    "papermill": {
     "duration": 0.445848,
     "end_time": "2021-05-03T20:33:06.202620",
     "exception": false,
     "start_time": "2021-05-03T20:33:05.756772",
     "status": "completed"
    },
    "tags": []
   },
   "outputs": [
    {
     "data": {
      "image/png": "[encoded data removed]",
      "text/plain": [
       "<Figure size 720x432 with 1 Axes>"
      ]
     },
     "metadata": {
      "needs_background": "light"
     },
     "output_type": "display_data"
    }
   ],
   "source": [
    "plt.figure(figsize=(10,6))\n",
    "sns.countplot(x = users.age.sort_values())\n",
    "plt.title('Распределение пользователей по возрасту',fontsize=14)\n",
    "plt.xlabel('Возрастная категория',fontsize=14)\n",
    "plt.ylabel('Количество пользователей',fontsize=14);"
   ]
  },
  {
   "cell_type": "code",
   "execution_count": 9,
   "id": "educated-sewing",
   "metadata": {
    "execution": {
     "iopub.execute_input": "2021-05-03T20:33:06.291725Z",
     "iopub.status.busy": "2021-05-03T20:33:06.290638Z",
     "iopub.status.idle": "2021-05-03T20:33:06.299501Z",
     "shell.execute_reply": "2021-05-03T20:33:06.300046Z"
    },
    "papermill": {
     "duration": 0.05717,
     "end_time": "2021-05-03T20:33:06.300213",
     "exception": false,
     "start_time": "2021-05-03T20:33:06.243043",
     "status": "completed"
    },
    "tags": []
   },
   "outputs": [
    {
     "data": {
      "text/plain": [
       "137254"
      ]
     },
     "execution_count": 9,
     "metadata": {},
     "output_type": "execute_result"
    }
   ],
   "source": [
    "users.user_id.nunique() # количество различных пользователей в базе"
   ]
  },
  {
   "cell_type": "markdown",
   "id": "closing-storm",
   "metadata": {
    "papermill": {
     "duration": 0.041063,
     "end_time": "2021-05-03T20:33:06.381578",
     "exception": false,
     "start_time": "2021-05-03T20:33:06.340515",
     "status": "completed"
    },
    "tags": []
   },
   "source": [
    "## Информация о книгах"
   ]
  },
  {
   "cell_type": "code",
   "execution_count": 10,
   "id": "desirable-border",
   "metadata": {
    "execution": {
     "iopub.execute_input": "2021-05-03T20:33:06.466615Z",
     "iopub.status.busy": "2021-05-03T20:33:06.465739Z",
     "iopub.status.idle": "2021-05-03T20:33:06.476090Z",
     "shell.execute_reply": "2021-05-03T20:33:06.476569Z"
    },
    "papermill": {
     "duration": 0.054304,
     "end_time": "2021-05-03T20:33:06.476724",
     "exception": false,
     "start_time": "2021-05-03T20:33:06.422420",
     "status": "completed"
    },
    "tags": []
   },
   "outputs": [
    {
     "data": {
      "text/html": [
       "<div>\n",
       "<style scoped>\n",
       "    .dataframe tbody tr th:only-of-type {\n",
       "        vertical-align: middle;\n",
       "    }\n",
       "\n",
       "    .dataframe tbody tr th {\n",
       "        vertical-align: top;\n",
       "    }\n",
       "\n",
       "    .dataframe thead th {\n",
       "        text-align: right;\n",
       "    }\n",
       "</style>\n",
       "<table border=\"1\" class=\"dataframe\">\n",
       "  <thead>\n",
       "    <tr style=\"text-align: right;\">\n",
       "      <th></th>\n",
       "      <th>id</th>\n",
       "      <th>title</th>\n",
       "      <th>genres</th>\n",
       "      <th>authors</th>\n",
       "      <th>year</th>\n",
       "    </tr>\n",
       "  </thead>\n",
       "  <tbody>\n",
       "    <tr>\n",
       "      <th>0</th>\n",
       "      <td>248031</td>\n",
       "      <td>Ворон-челобитчик</td>\n",
       "      <td>Зарубежные детские книги,Сказки,Зарубежная кла...</td>\n",
       "      <td>Михаил Салтыков-Щедрин</td>\n",
       "      <td>1886</td>\n",
       "    </tr>\n",
       "    <tr>\n",
       "      <th>1</th>\n",
       "      <td>256084</td>\n",
       "      <td>Скрипка Ротшильда</td>\n",
       "      <td>Классическая проза,Литература 19 века,Русская ...</td>\n",
       "      <td>Антон Чехов</td>\n",
       "      <td>1894</td>\n",
       "    </tr>\n",
       "    <tr>\n",
       "      <th>2</th>\n",
       "      <td>134166</td>\n",
       "      <td>Испорченные дети</td>\n",
       "      <td>Зарубежная классика,Классическая проза,Литерат...</td>\n",
       "      <td>Михаил Салтыков-Щедрин</td>\n",
       "      <td>1869</td>\n",
       "    </tr>\n",
       "  </tbody>\n",
       "</table>\n",
       "</div>"
      ],
      "text/plain": [
       "       id              title  \\\n",
       "0  248031   Ворон-челобитчик   \n",
       "1  256084  Скрипка Ротшильда   \n",
       "2  134166   Испорченные дети   \n",
       "\n",
       "                                              genres                 authors  \\\n",
       "0  Зарубежные детские книги,Сказки,Зарубежная кла...  Михаил Салтыков-Щедрин   \n",
       "1  Классическая проза,Литература 19 века,Русская ...             Антон Чехов   \n",
       "2  Зарубежная классика,Классическая проза,Литерат...  Михаил Салтыков-Щедрин   \n",
       "\n",
       "   year  \n",
       "0  1886  \n",
       "1  1894  \n",
       "2  1869  "
      ]
     },
     "execution_count": 10,
     "metadata": {},
     "output_type": "execute_result"
    }
   ],
   "source": [
    "items.head(3)"
   ]
  },
  {
   "cell_type": "code",
   "execution_count": 11,
   "id": "sorted-container",
   "metadata": {
    "execution": {
     "iopub.execute_input": "2021-05-03T20:33:06.562560Z",
     "iopub.status.busy": "2021-05-03T20:33:06.561687Z",
     "iopub.status.idle": "2021-05-03T20:33:06.589404Z",
     "shell.execute_reply": "2021-05-03T20:33:06.588768Z"
    },
    "papermill": {
     "duration": 0.071818,
     "end_time": "2021-05-03T20:33:06.589537",
     "exception": false,
     "start_time": "2021-05-03T20:33:06.517719",
     "status": "completed"
    },
    "tags": []
   },
   "outputs": [
    {
     "name": "stdout",
     "output_type": "stream",
     "text": [
      "<class 'pandas.core.frame.DataFrame'>\n",
      "RangeIndex: 63758 entries, 0 to 63757\n",
      "Data columns (total 5 columns):\n",
      " #   Column   Non-Null Count  Dtype \n",
      "---  ------   --------------  ----- \n",
      " 0   id       63758 non-null  int64 \n",
      " 1   title    63758 non-null  object\n",
      " 2   genres   63753 non-null  object\n",
      " 3   authors  56700 non-null  object\n",
      " 4   year     49508 non-null  object\n",
      "dtypes: int64(1), object(4)\n",
      "memory usage: 2.4+ MB\n"
     ]
    }
   ],
   "source": [
    "items.info()"
   ]
  },
  {
   "cell_type": "code",
   "execution_count": 12,
   "id": "worldwide-nicholas",
   "metadata": {
    "execution": {
     "iopub.execute_input": "2021-05-03T20:33:06.683848Z",
     "iopub.status.busy": "2021-05-03T20:33:06.683066Z",
     "iopub.status.idle": "2021-05-03T20:33:06.851069Z",
     "shell.execute_reply": "2021-05-03T20:33:06.850499Z"
    },
    "papermill": {
     "duration": 0.22045,
     "end_time": "2021-05-03T20:33:06.851203",
     "exception": false,
     "start_time": "2021-05-03T20:33:06.630753",
     "status": "completed"
    },
    "tags": []
   },
   "outputs": [
    {
     "data": {
      "image/png": "[encoded data removed]",
      "text/plain": [
       "<Figure size 720x432 with 1 Axes>"
      ]
     },
     "metadata": {
      "needs_background": "light"
     },
     "output_type": "display_data"
    }
   ],
   "source": [
    "plt.figure(figsize=(10,6))\n",
    "items.year.value_counts().sort_values(ascending=False).head(20).plot()\n",
    "plt.grid()\n",
    "plt.title('Зависимость количества различных книг от года',fontsize=14)\n",
    "plt.xlabel('Год издания книги',fontsize=14)\n",
    "plt.ylabel('Количество книг',fontsize=14);"
   ]
  },
  {
   "cell_type": "markdown",
   "id": "confidential-reservoir",
   "metadata": {
    "papermill": {
     "duration": 0.042609,
     "end_time": "2021-05-03T20:33:06.936444",
     "exception": false,
     "start_time": "2021-05-03T20:33:06.893835",
     "status": "completed"
    },
    "tags": []
   },
   "source": [
    "<b> Наиболее популярные жанры в базе. </b>"
   ]
  },
  {
   "cell_type": "code",
   "execution_count": 13,
   "id": "confident-checklist",
   "metadata": {
    "execution": {
     "iopub.execute_input": "2021-05-03T20:33:07.067093Z",
     "iopub.status.busy": "2021-05-03T20:33:07.062057Z",
     "iopub.status.idle": "2021-05-03T20:33:07.176302Z",
     "shell.execute_reply": "2021-05-03T20:33:07.175822Z"
    },
    "papermill": {
     "duration": 0.197243,
     "end_time": "2021-05-03T20:33:07.176438",
     "exception": false,
     "start_time": "2021-05-03T20:33:06.979195",
     "status": "completed"
    },
    "tags": []
   },
   "outputs": [
    {
     "data": {
      "text/plain": [
       "[('Современная русская литература', 3893),\n",
       " ('Современные детективы', 3441),\n",
       " ('Современные любовные романы', 3247),\n",
       " ('Попаданцы', 2832),\n",
       " ('Боевая фантастика', 2814),\n",
       " ('Любовное фэнтези', 2621),\n",
       " ('Русская классика', 2537),\n",
       " ('Газеты', 2441),\n",
       " ('Героическое фэнтези', 2234),\n",
       " ('Зарубежные любовные романы', 2214)]"
      ]
     },
     "execution_count": 13,
     "metadata": {},
     "output_type": "execute_result"
    }
   ],
   "source": [
    "counter = Counter()\n",
    "for i in items.genres:\n",
    "    if type(i)==float:\n",
    "        continue\n",
    "    item_genres = i.split(',')\n",
    "    counter.update(item_genres)\n",
    "counter.most_common(10)"
   ]
  },
  {
   "cell_type": "code",
   "execution_count": 14,
   "id": "smart-coaching",
   "metadata": {
    "execution": {
     "iopub.execute_input": "2021-05-03T20:33:07.290668Z",
     "iopub.status.busy": "2021-05-03T20:33:07.289697Z",
     "iopub.status.idle": "2021-05-03T20:33:07.442572Z",
     "shell.execute_reply": "2021-05-03T20:33:07.442005Z"
    },
    "papermill": {
     "duration": 0.224107,
     "end_time": "2021-05-03T20:33:07.442708",
     "exception": false,
     "start_time": "2021-05-03T20:33:07.218601",
     "status": "completed"
    },
    "tags": []
   },
   "outputs": [
    {
     "data": {
      "image/png": "[encoded data removed]",
      "text/plain": [
       "<Figure size 720x432 with 1 Axes>"
      ]
     },
     "metadata": {
      "needs_background": "light"
     },
     "output_type": "display_data"
    }
   ],
   "source": [
    "plt.figure(figsize=(10,6))\n",
    "plt.scatter(np.arange(len(counter.values())),sorted(counter.values()))\n",
    "plt.title('Частота книг по жанрам',fontsize=14)\n",
    "plt.xlabel('Жанр',fontsize=14)\n",
    "plt.ylabel('Количество книг жанра',fontsize=14);"
   ]
  },
  {
   "cell_type": "markdown",
   "id": "demanding-plumbing",
   "metadata": {
    "papermill": {
     "duration": 0.043131,
     "end_time": "2021-05-03T20:33:07.531519",
     "exception": false,
     "start_time": "2021-05-03T20:33:07.488388",
     "status": "completed"
    },
    "tags": []
   },
   "source": [
    "<b> Примерно 100 жанров выделяется из всех. Остальных мало в базе. </b>"
   ]
  },
  {
   "cell_type": "code",
   "execution_count": 15,
   "id": "minimal-silence",
   "metadata": {
    "execution": {
     "iopub.execute_input": "2021-05-03T20:33:07.622959Z",
     "iopub.status.busy": "2021-05-03T20:33:07.622346Z",
     "iopub.status.idle": "2021-05-03T20:33:07.627549Z",
     "shell.execute_reply": "2021-05-03T20:33:07.626970Z"
    },
    "papermill": {
     "duration": 0.052743,
     "end_time": "2021-05-03T20:33:07.627681",
     "exception": false,
     "start_time": "2021-05-03T20:33:07.574938",
     "status": "completed"
    },
    "tags": []
   },
   "outputs": [
    {
     "data": {
      "text/plain": [
       "658"
      ]
     },
     "execution_count": 15,
     "metadata": {},
     "output_type": "execute_result"
    }
   ],
   "source": [
    "len(counter) # количество различных жанров"
   ]
  },
  {
   "cell_type": "markdown",
   "id": "crude-royalty",
   "metadata": {
    "papermill": {
     "duration": 0.04341,
     "end_time": "2021-05-03T20:33:07.714912",
     "exception": false,
     "start_time": "2021-05-03T20:33:07.671502",
     "status": "completed"
    },
    "tags": []
   },
   "source": [
    "<b> Жанры, у которых пропущены авторы. </b>"
   ]
  },
  {
   "cell_type": "code",
   "execution_count": 16,
   "id": "opposite-transition",
   "metadata": {
    "execution": {
     "iopub.execute_input": "2021-05-03T20:33:07.817997Z",
     "iopub.status.busy": "2021-05-03T20:33:07.810075Z",
     "iopub.status.idle": "2021-05-03T20:33:07.833593Z",
     "shell.execute_reply": "2021-05-03T20:33:07.832992Z"
    },
    "papermill": {
     "duration": 0.075342,
     "end_time": "2021-05-03T20:33:07.833785",
     "exception": false,
     "start_time": "2021-05-03T20:33:07.758443",
     "status": "completed"
    },
    "tags": []
   },
   "outputs": [
    {
     "data": {
      "text/plain": [
       "[('Газеты', 2402),\n",
       " ('Журнальные издания', 1574),\n",
       " ('Книги по экономике', 1051),\n",
       " ('Политология', 991),\n",
       " ('Развлечения', 821),\n",
       " ('Прикладная литература', 579),\n",
       " ('Спорт / фитнес', 445),\n",
       " ('Кулинария', 364),\n",
       " ('Общая история', 292),\n",
       " ('Биографии и мемуары', 284)]"
      ]
     },
     "execution_count": 16,
     "metadata": {},
     "output_type": "execute_result"
    }
   ],
   "source": [
    "counter = Counter()\n",
    "for i in items.loc[items.authors.isna()].genres:\n",
    "    if type(i)==float:\n",
    "        continue\n",
    "    item_genres = i.split(',')\n",
    "    counter.update(item_genres)\n",
    "counter.most_common(10)"
   ]
  },
  {
   "cell_type": "code",
   "execution_count": 17,
   "id": "authentic-sponsorship",
   "metadata": {
    "execution": {
     "iopub.execute_input": "2021-05-03T20:33:07.926388Z",
     "iopub.status.busy": "2021-05-03T20:33:07.925781Z",
     "iopub.status.idle": "2021-05-03T20:33:07.934805Z",
     "shell.execute_reply": "2021-05-03T20:33:07.934338Z"
    },
    "papermill": {
     "duration": 0.05701,
     "end_time": "2021-05-03T20:33:07.934957",
     "exception": false,
     "start_time": "2021-05-03T20:33:07.877947",
     "status": "completed"
    },
    "tags": []
   },
   "outputs": [
    {
     "data": {
      "text/plain": [
       "63758"
      ]
     },
     "execution_count": 17,
     "metadata": {},
     "output_type": "execute_result"
    }
   ],
   "source": [
    "items.id.nunique() # количество различных книг в базе"
   ]
  },
  {
   "cell_type": "markdown",
   "id": "clean-strand",
   "metadata": {
    "papermill": {
     "duration": 0.046079,
     "end_time": "2021-05-03T20:33:08.026402",
     "exception": false,
     "start_time": "2021-05-03T20:33:07.980323",
     "status": "completed"
    },
    "tags": []
   },
   "source": [
    "<b> Авторы с наибольшим количеством различных книг. </b>"
   ]
  },
  {
   "cell_type": "code",
   "execution_count": 18,
   "id": "applied-quebec",
   "metadata": {
    "execution": {
     "iopub.execute_input": "2021-05-03T20:33:08.132790Z",
     "iopub.status.busy": "2021-05-03T20:33:08.127073Z",
     "iopub.status.idle": "2021-05-03T20:33:08.140293Z",
     "shell.execute_reply": "2021-05-03T20:33:08.139685Z"
    },
    "papermill": {
     "duration": 0.06903,
     "end_time": "2021-05-03T20:33:08.140446",
     "exception": false,
     "start_time": "2021-05-03T20:33:08.071416",
     "status": "completed"
    },
    "tags": []
   },
   "outputs": [
    {
     "data": {
      "text/plain": [
       "Дарья Донцова           320\n",
       "Марина Серова           319\n",
       "Наталья Александрова    287\n",
       "Илья Мельников          270\n",
       "Антон Чехов             269\n",
       "Лев Толстой             224\n",
       "Александр Тамоников     217\n",
       "Владимир Колычев        204\n",
       "Сергей Зверев           202\n",
       "Кир Булычев             183\n",
       "Name: authors, dtype: int64"
      ]
     },
     "execution_count": 18,
     "metadata": {},
     "output_type": "execute_result"
    }
   ],
   "source": [
    "items.authors.value_counts().head(10) # с учетом аудиокниг"
   ]
  },
  {
   "cell_type": "markdown",
   "id": "touched-earth",
   "metadata": {
    "papermill": {
     "duration": 0.044393,
     "end_time": "2021-05-03T20:33:08.229726",
     "exception": false,
     "start_time": "2021-05-03T20:33:08.185333",
     "status": "completed"
    },
    "tags": []
   },
   "source": [
    "<b> Пример одного из авторов. </b>"
   ]
  },
  {
   "cell_type": "code",
   "execution_count": 19,
   "id": "opened-imperial",
   "metadata": {
    "execution": {
     "iopub.execute_input": "2021-05-03T20:33:08.336037Z",
     "iopub.status.busy": "2021-05-03T20:33:08.335089Z",
     "iopub.status.idle": "2021-05-03T20:33:08.339407Z",
     "shell.execute_reply": "2021-05-03T20:33:08.338847Z"
    },
    "papermill": {
     "duration": 0.06507,
     "end_time": "2021-05-03T20:33:08.339535",
     "exception": false,
     "start_time": "2021-05-03T20:33:08.274465",
     "status": "completed"
    },
    "tags": []
   },
   "outputs": [
    {
     "data": {
      "text/html": [
       "<div>\n",
       "<style scoped>\n",
       "    .dataframe tbody tr th:only-of-type {\n",
       "        vertical-align: middle;\n",
       "    }\n",
       "\n",
       "    .dataframe tbody tr th {\n",
       "        vertical-align: top;\n",
       "    }\n",
       "\n",
       "    .dataframe thead th {\n",
       "        text-align: right;\n",
       "    }\n",
       "</style>\n",
       "<table border=\"1\" class=\"dataframe\">\n",
       "  <thead>\n",
       "    <tr style=\"text-align: right;\">\n",
       "      <th></th>\n",
       "      <th>id</th>\n",
       "      <th>title</th>\n",
       "      <th>genres</th>\n",
       "      <th>authors</th>\n",
       "      <th>year</th>\n",
       "    </tr>\n",
       "  </thead>\n",
       "  <tbody>\n",
       "    <tr>\n",
       "      <th>50536</th>\n",
       "      <td>117587</td>\n",
       "      <td>Что такое религия и в чем сущность ее</td>\n",
       "      <td>Старинная литература,Русская классика</td>\n",
       "      <td>Лев Толстой</td>\n",
       "      <td>NaN</td>\n",
       "    </tr>\n",
       "    <tr>\n",
       "      <th>28501</th>\n",
       "      <td>348925</td>\n",
       "      <td>Что такое религия и в чем сущность ее</td>\n",
       "      <td>Старинная литература,Русская классика</td>\n",
       "      <td>Лев Толстой</td>\n",
       "      <td>NaN</td>\n",
       "    </tr>\n",
       "    <tr>\n",
       "      <th>58127</th>\n",
       "      <td>221818</td>\n",
       "      <td>Юность</td>\n",
       "      <td>Классическая проза,Русская классика</td>\n",
       "      <td>Лев Толстой</td>\n",
       "      <td>1852</td>\n",
       "    </tr>\n",
       "    <tr>\n",
       "      <th>60235</th>\n",
       "      <td>99599</td>\n",
       "      <td>Юность</td>\n",
       "      <td>Классическая проза,Русская классика</td>\n",
       "      <td>Лев Толстой</td>\n",
       "      <td>1852</td>\n",
       "    </tr>\n",
       "    <tr>\n",
       "      <th>277</th>\n",
       "      <td>292513</td>\n",
       "      <td>Юность</td>\n",
       "      <td>Литература 19 века,Русская классика</td>\n",
       "      <td>Лев Толстой</td>\n",
       "      <td>1857</td>\n",
       "    </tr>\n",
       "  </tbody>\n",
       "</table>\n",
       "</div>"
      ],
      "text/plain": [
       "           id                                  title  \\\n",
       "50536  117587  Что такое религия и в чем сущность ее   \n",
       "28501  348925  Что такое религия и в чем сущность ее   \n",
       "58127  221818                                 Юность   \n",
       "60235   99599                                 Юность   \n",
       "277    292513                                 Юность   \n",
       "\n",
       "                                      genres      authors  year  \n",
       "50536  Старинная литература,Русская классика  Лев Толстой   NaN  \n",
       "28501  Старинная литература,Русская классика  Лев Толстой   NaN  \n",
       "58127    Классическая проза,Русская классика  Лев Толстой  1852  \n",
       "60235    Классическая проза,Русская классика  Лев Толстой  1852  \n",
       "277      Литература 19 века,Русская классика  Лев Толстой  1857  "
      ]
     },
     "execution_count": 19,
     "metadata": {},
     "output_type": "execute_result"
    }
   ],
   "source": [
    "items.iloc[np.where(items.authors=='Лев Толстой')[0]].sort_values(by='title').tail(5)"
   ]
  },
  {
   "cell_type": "markdown",
   "id": "ordinary-sacrifice",
   "metadata": {
    "papermill": {
     "duration": 0.04497,
     "end_time": "2021-05-03T20:33:08.429482",
     "exception": false,
     "start_time": "2021-05-03T20:33:08.384512",
     "status": "completed"
    },
    "tags": []
   },
   "source": [
    "<b> Некоторые названия повторяются и у них разные id. Как оказалось, здесь учитваются также и аудиокниги. Что составит некоторую сложность в будущем. </b>"
   ]
  },
  {
   "cell_type": "markdown",
   "id": "activated-baghdad",
   "metadata": {
    "papermill": {
     "duration": 0.044983,
     "end_time": "2021-05-03T20:33:08.519546",
     "exception": false,
     "start_time": "2021-05-03T20:33:08.474563",
     "status": "completed"
    },
    "tags": []
   },
   "source": [
    "## Информация о действиях пользователей"
   ]
  },
  {
   "cell_type": "code",
   "execution_count": 20,
   "id": "conventional-outreach",
   "metadata": {
    "execution": {
     "iopub.execute_input": "2021-05-03T20:33:08.616797Z",
     "iopub.status.busy": "2021-05-03T20:33:08.615856Z",
     "iopub.status.idle": "2021-05-03T20:33:08.622460Z",
     "shell.execute_reply": "2021-05-03T20:33:08.622849Z"
    },
    "papermill": {
     "duration": 0.058651,
     "end_time": "2021-05-03T20:33:08.623027",
     "exception": false,
     "start_time": "2021-05-03T20:33:08.564376",
     "status": "completed"
    },
    "tags": []
   },
   "outputs": [
    {
     "data": {
      "text/html": [
       "<div>\n",
       "<style scoped>\n",
       "    .dataframe tbody tr th:only-of-type {\n",
       "        vertical-align: middle;\n",
       "    }\n",
       "\n",
       "    .dataframe tbody tr th {\n",
       "        vertical-align: top;\n",
       "    }\n",
       "\n",
       "    .dataframe thead th {\n",
       "        text-align: right;\n",
       "    }\n",
       "</style>\n",
       "<table border=\"1\" class=\"dataframe\">\n",
       "  <thead>\n",
       "    <tr style=\"text-align: right;\">\n",
       "      <th></th>\n",
       "      <th>user_id</th>\n",
       "      <th>item_id</th>\n",
       "      <th>progress</th>\n",
       "      <th>rating</th>\n",
       "      <th>start_date</th>\n",
       "    </tr>\n",
       "  </thead>\n",
       "  <tbody>\n",
       "    <tr>\n",
       "      <th>0</th>\n",
       "      <td>90133</td>\n",
       "      <td>82910</td>\n",
       "      <td>100</td>\n",
       "      <td>NaN</td>\n",
       "      <td>2018-01-01</td>\n",
       "    </tr>\n",
       "    <tr>\n",
       "      <th>1</th>\n",
       "      <td>159130</td>\n",
       "      <td>331068</td>\n",
       "      <td>70</td>\n",
       "      <td>NaN</td>\n",
       "      <td>2018-01-01</td>\n",
       "    </tr>\n",
       "    <tr>\n",
       "      <th>2</th>\n",
       "      <td>80061</td>\n",
       "      <td>26540</td>\n",
       "      <td>69</td>\n",
       "      <td>4.0</td>\n",
       "      <td>2018-01-01</td>\n",
       "    </tr>\n",
       "    <tr>\n",
       "      <th>3</th>\n",
       "      <td>12811</td>\n",
       "      <td>301895</td>\n",
       "      <td>16</td>\n",
       "      <td>NaN</td>\n",
       "      <td>2018-01-01</td>\n",
       "    </tr>\n",
       "    <tr>\n",
       "      <th>4</th>\n",
       "      <td>5778</td>\n",
       "      <td>127872</td>\n",
       "      <td>100</td>\n",
       "      <td>NaN</td>\n",
       "      <td>2018-01-01</td>\n",
       "    </tr>\n",
       "  </tbody>\n",
       "</table>\n",
       "</div>"
      ],
      "text/plain": [
       "   user_id  item_id  progress  rating start_date\n",
       "0    90133    82910       100     NaN 2018-01-01\n",
       "1   159130   331068        70     NaN 2018-01-01\n",
       "2    80061    26540        69     4.0 2018-01-01\n",
       "3    12811   301895        16     NaN 2018-01-01\n",
       "4     5778   127872       100     NaN 2018-01-01"
      ]
     },
     "execution_count": 20,
     "metadata": {},
     "output_type": "execute_result"
    }
   ],
   "source": [
    "interactions.head(5)"
   ]
  },
  {
   "cell_type": "code",
   "execution_count": 21,
   "id": "powered-assumption",
   "metadata": {
    "execution": {
     "iopub.execute_input": "2021-05-03T20:33:08.717342Z",
     "iopub.status.busy": "2021-05-03T20:33:08.716470Z",
     "iopub.status.idle": "2021-05-03T20:33:08.742504Z",
     "shell.execute_reply": "2021-05-03T20:33:08.742955Z"
    },
    "papermill": {
     "duration": 0.074385,
     "end_time": "2021-05-03T20:33:08.743116",
     "exception": false,
     "start_time": "2021-05-03T20:33:08.668731",
     "status": "completed"
    },
    "tags": []
   },
   "outputs": [
    {
     "name": "stdout",
     "output_type": "stream",
     "text": [
      "<class 'pandas.core.frame.DataFrame'>\n",
      "RangeIndex: 1562617 entries, 0 to 1562616\n",
      "Data columns (total 5 columns):\n",
      " #   Column      Non-Null Count    Dtype         \n",
      "---  ------      --------------    -----         \n",
      " 0   user_id     1562617 non-null  int64         \n",
      " 1   item_id     1562617 non-null  int64         \n",
      " 2   progress    1562617 non-null  int64         \n",
      " 3   rating      323571 non-null   float64       \n",
      " 4   start_date  1562617 non-null  datetime64[ns]\n",
      "dtypes: datetime64[ns](1), float64(1), int64(3)\n",
      "memory usage: 59.6 MB\n"
     ]
    }
   ],
   "source": [
    "interactions.info()"
   ]
  },
  {
   "cell_type": "markdown",
   "id": "oriented-portuguese",
   "metadata": {
    "papermill": {
     "duration": 0.045825,
     "end_time": "2021-05-03T20:33:08.834243",
     "exception": false,
     "start_time": "2021-05-03T20:33:08.788418",
     "status": "completed"
    },
    "tags": []
   },
   "source": [
    "<b> К сожалению, много пропусков в столбце рейтинга. Похоже, мало кто любит оценивать книги. </b>"
   ]
  },
  {
   "cell_type": "code",
   "execution_count": 22,
   "id": "hispanic-retention",
   "metadata": {
    "execution": {
     "iopub.execute_input": "2021-05-03T20:33:08.930095Z",
     "iopub.status.busy": "2021-05-03T20:33:08.928786Z",
     "iopub.status.idle": "2021-05-03T20:33:08.945233Z",
     "shell.execute_reply": "2021-05-03T20:33:08.945645Z"
    },
    "papermill": {
     "duration": 0.06549,
     "end_time": "2021-05-03T20:33:08.945817",
     "exception": false,
     "start_time": "2021-05-03T20:33:08.880327",
     "status": "completed"
    },
    "tags": []
   },
   "outputs": [
    {
     "data": {
      "text/plain": [
       "729"
      ]
     },
     "execution_count": 22,
     "metadata": {},
     "output_type": "execute_result"
    }
   ],
   "source": [
    "(interactions.start_date.max()-interactions.start_date.min()).days # информация действий юзеров за 729 дня"
   ]
  },
  {
   "cell_type": "code",
   "execution_count": 23,
   "id": "chemical-beach",
   "metadata": {
    "execution": {
     "iopub.execute_input": "2021-05-03T20:33:09.044237Z",
     "iopub.status.busy": "2021-05-03T20:33:09.043278Z",
     "iopub.status.idle": "2021-05-03T20:33:09.097325Z",
     "shell.execute_reply": "2021-05-03T20:33:09.096602Z"
    },
    "papermill": {
     "duration": 0.104132,
     "end_time": "2021-05-03T20:33:09.097468",
     "exception": false,
     "start_time": "2021-05-03T20:33:08.993336",
     "status": "completed"
    },
    "tags": []
   },
   "outputs": [
    {
     "data": {
      "text/plain": [
       "158325"
      ]
     },
     "execution_count": 23,
     "metadata": {},
     "output_type": "execute_result"
    }
   ],
   "source": [
    "interactions.user_id.nunique() # количество различных пользователей "
   ]
  },
  {
   "cell_type": "code",
   "execution_count": 24,
   "id": "american-devices",
   "metadata": {
    "execution": {
     "iopub.execute_input": "2021-05-03T20:33:09.196520Z",
     "iopub.status.busy": "2021-05-03T20:33:09.195821Z",
     "iopub.status.idle": "2021-05-03T20:33:21.374684Z",
     "shell.execute_reply": "2021-05-03T20:33:21.375155Z"
    },
    "papermill": {
     "duration": 12.230595,
     "end_time": "2021-05-03T20:33:21.375338",
     "exception": false,
     "start_time": "2021-05-03T20:33:09.144743",
     "status": "completed"
    },
    "tags": []
   },
   "outputs": [],
   "source": [
    "interactions['start_date_year'] = interactions.start_date.apply(lambda x:x.year)\n",
    "interactions['start_date_month'] = interactions.start_date.apply(lambda x:x.month)"
   ]
  },
  {
   "cell_type": "code",
   "execution_count": 25,
   "id": "increased-panama",
   "metadata": {
    "execution": {
     "iopub.execute_input": "2021-05-03T20:33:21.473156Z",
     "iopub.status.busy": "2021-05-03T20:33:21.472237Z",
     "iopub.status.idle": "2021-05-03T20:33:21.518628Z",
     "shell.execute_reply": "2021-05-03T20:33:21.517655Z"
    },
    "papermill": {
     "duration": 0.096483,
     "end_time": "2021-05-03T20:33:21.518796",
     "exception": false,
     "start_time": "2021-05-03T20:33:21.422313",
     "status": "completed"
    },
    "tags": []
   },
   "outputs": [
    {
     "data": {
      "text/plain": [
       "start_date_year\n",
       "2018    778865\n",
       "2019    783752\n",
       "Name: item_id, dtype: int64"
      ]
     },
     "execution_count": 25,
     "metadata": {},
     "output_type": "execute_result"
    }
   ],
   "source": [
    "interactions.groupby(['start_date_year'])['item_id'].count()"
   ]
  },
  {
   "cell_type": "markdown",
   "id": "effective-music",
   "metadata": {
    "papermill": {
     "duration": 0.047013,
     "end_time": "2021-05-03T20:33:21.614922",
     "exception": false,
     "start_time": "2021-05-03T20:33:21.567909",
     "status": "completed"
    },
    "tags": []
   },
   "source": [
    "<b> В последние месяцы больше всего оценок. </b>"
   ]
  },
  {
   "cell_type": "code",
   "execution_count": 26,
   "id": "periodic-bacon",
   "metadata": {
    "execution": {
     "iopub.execute_input": "2021-05-03T20:33:21.715372Z",
     "iopub.status.busy": "2021-05-03T20:33:21.714496Z",
     "iopub.status.idle": "2021-05-03T20:33:21.748654Z",
     "shell.execute_reply": "2021-05-03T20:33:21.748075Z"
    },
    "papermill": {
     "duration": 0.086409,
     "end_time": "2021-05-03T20:33:21.748784",
     "exception": false,
     "start_time": "2021-05-03T20:33:21.662375",
     "status": "completed"
    },
    "tags": []
   },
   "outputs": [
    {
     "data": {
      "text/plain": [
       "start_date_month\n",
       "5     24416\n",
       "9     24638\n",
       "4     24663\n",
       "3     24926\n",
       "6     25225\n",
       "2     25954\n",
       "8     26073\n",
       "7     26712\n",
       "1     26765\n",
       "10    29620\n",
       "11    30689\n",
       "12    33890\n",
       "Name: rating, dtype: int64"
      ]
     },
     "execution_count": 26,
     "metadata": {},
     "output_type": "execute_result"
    }
   ],
   "source": [
    "interactions.groupby(['start_date_month'])['rating'].count().sort_values()"
   ]
  },
  {
   "cell_type": "code",
   "execution_count": 27,
   "id": "regional-silly",
   "metadata": {
    "execution": {
     "iopub.execute_input": "2021-05-03T20:33:21.848416Z",
     "iopub.status.busy": "2021-05-03T20:33:21.847466Z",
     "iopub.status.idle": "2021-05-03T20:33:21.885411Z",
     "shell.execute_reply": "2021-05-03T20:33:21.885797Z"
    },
    "papermill": {
     "duration": 0.089694,
     "end_time": "2021-05-03T20:33:21.885987",
     "exception": false,
     "start_time": "2021-05-03T20:33:21.796293",
     "status": "completed"
    },
    "tags": []
   },
   "outputs": [
    {
     "data": {
      "text/plain": [
       "63758"
      ]
     },
     "execution_count": 27,
     "metadata": {},
     "output_type": "execute_result"
    }
   ],
   "source": [
    "interactions.item_id.nunique() # количество различных книг (за 2 года)"
   ]
  },
  {
   "cell_type": "code",
   "execution_count": 28,
   "id": "restricted-circus",
   "metadata": {
    "execution": {
     "iopub.execute_input": "2021-05-03T20:33:21.984827Z",
     "iopub.status.busy": "2021-05-03T20:33:21.983950Z",
     "iopub.status.idle": "2021-05-03T20:33:22.307139Z",
     "shell.execute_reply": "2021-05-03T20:33:22.307535Z"
    },
    "papermill": {
     "duration": 0.374185,
     "end_time": "2021-05-03T20:33:22.307698",
     "exception": false,
     "start_time": "2021-05-03T20:33:21.933513",
     "status": "completed"
    },
    "tags": []
   },
   "outputs": [
    {
     "data": {
      "image/png": "[encoded data removed]",
      "text/plain": [
       "<Figure size 720x432 with 1 Axes>"
      ]
     },
     "metadata": {
      "needs_background": "light"
     },
     "output_type": "display_data"
    }
   ],
   "source": [
    "plt.figure(figsize=(10,6))\n",
    "interactions.progress.plot.hist(bins=10)\n",
    "plt.title('Гистограмма распределения progress',fontsize=14)\n",
    "plt.xlabel('Progress',fontsize=14)\n",
    "plt.ylabel('Частота',fontsize=14);"
   ]
  },
  {
   "cell_type": "code",
   "execution_count": 29,
   "id": "conceptual-tuning",
   "metadata": {
    "execution": {
     "iopub.execute_input": "2021-05-03T20:33:22.408286Z",
     "iopub.status.busy": "2021-05-03T20:33:22.407398Z",
     "iopub.status.idle": "2021-05-03T20:33:22.784586Z",
     "shell.execute_reply": "2021-05-03T20:33:22.784110Z"
    },
    "papermill": {
     "duration": 0.428649,
     "end_time": "2021-05-03T20:33:22.784712",
     "exception": false,
     "start_time": "2021-05-03T20:33:22.356063",
     "status": "completed"
    },
    "tags": []
   },
   "outputs": [
    {
     "data": {
      "image/png": "[encoded data removed]",
      "text/plain": [
       "<Figure size 720x432 with 1 Axes>"
      ]
     },
     "metadata": {
      "needs_background": "light"
     },
     "output_type": "display_data"
    }
   ],
   "source": [
    "plt.figure(figsize=(10,6))\n",
    "sns.countplot(x=interactions.rating,hue = interactions.start_date_year)\n",
    "plt.title('Распределение рейтинга по годам',fontsize=14)\n",
    "plt.ylabel('Количество',fontsize=14)\n",
    "plt.xlabel('Рейтинг',fontsize=14);"
   ]
  },
  {
   "cell_type": "markdown",
   "id": "central-rogers",
   "metadata": {
    "papermill": {
     "duration": 0.04984,
     "end_time": "2021-05-03T20:33:22.884836",
     "exception": false,
     "start_time": "2021-05-03T20:33:22.834996",
     "status": "completed"
    },
    "tags": []
   },
   "source": [
    "<b> Значение 0 в рейтинге скорее всего говорит о том что пользователь отказался оценивать. В 2019 намного больше рейтинга со значением 0. </b>"
   ]
  },
  {
   "cell_type": "markdown",
   "id": "alike-arbor",
   "metadata": {
    "papermill": {
     "duration": 0.049323,
     "end_time": "2021-05-03T20:33:22.983514",
     "exception": false,
     "start_time": "2021-05-03T20:33:22.934191",
     "status": "completed"
    },
    "tags": []
   },
   "source": [
    "<b> Cлучайная ошибка (возможно того числа были и другие ошибки). </b>"
   ]
  },
  {
   "cell_type": "code",
   "execution_count": 30,
   "id": "thirty-design",
   "metadata": {
    "execution": {
     "iopub.execute_input": "2021-05-03T20:33:23.090648Z",
     "iopub.status.busy": "2021-05-03T20:33:23.089691Z",
     "iopub.status.idle": "2021-05-03T20:33:23.141611Z",
     "shell.execute_reply": "2021-05-03T20:33:23.142048Z"
    },
    "papermill": {
     "duration": 0.108151,
     "end_time": "2021-05-03T20:33:23.142219",
     "exception": false,
     "start_time": "2021-05-03T20:33:23.034068",
     "status": "completed"
    },
    "tags": []
   },
   "outputs": [
    {
     "data": {
      "text/html": [
       "<div>\n",
       "<style scoped>\n",
       "    .dataframe tbody tr th:only-of-type {\n",
       "        vertical-align: middle;\n",
       "    }\n",
       "\n",
       "    .dataframe tbody tr th {\n",
       "        vertical-align: top;\n",
       "    }\n",
       "\n",
       "    .dataframe thead th {\n",
       "        text-align: right;\n",
       "    }\n",
       "</style>\n",
       "<table border=\"1\" class=\"dataframe\">\n",
       "  <thead>\n",
       "    <tr style=\"text-align: right;\">\n",
       "      <th></th>\n",
       "      <th>user_id</th>\n",
       "      <th>item_id</th>\n",
       "      <th>progress</th>\n",
       "      <th>rating</th>\n",
       "      <th>start_date</th>\n",
       "      <th>start_date_year</th>\n",
       "      <th>start_date_month</th>\n",
       "    </tr>\n",
       "  </thead>\n",
       "  <tbody>\n",
       "    <tr>\n",
       "      <th>1455626</th>\n",
       "      <td>6313</td>\n",
       "      <td>169716</td>\n",
       "      <td>105</td>\n",
       "      <td>0.0</td>\n",
       "      <td>2019-11-11</td>\n",
       "      <td>2019</td>\n",
       "      <td>11</td>\n",
       "    </tr>\n",
       "  </tbody>\n",
       "</table>\n",
       "</div>"
      ],
      "text/plain": [
       "         user_id  item_id  progress  rating start_date  start_date_year  \\\n",
       "1455626     6313   169716       105     0.0 2019-11-11             2019   \n",
       "\n",
       "         start_date_month  \n",
       "1455626                11  "
      ]
     },
     "execution_count": 30,
     "metadata": {},
     "output_type": "execute_result"
    }
   ],
   "source": [
    "interactions.iloc[np.where(interactions.progress>100)[0]]"
   ]
  },
  {
   "cell_type": "markdown",
   "id": "finnish-vocabulary",
   "metadata": {
    "papermill": {
     "duration": 0.049843,
     "end_time": "2021-05-03T20:33:23.242227",
     "exception": false,
     "start_time": "2021-05-03T20:33:23.192384",
     "status": "completed"
    },
    "tags": []
   },
   "source": [
    "<b> Топ 5 книг 2018 года (по количеству действий с ними). </b>"
   ]
  },
  {
   "cell_type": "code",
   "execution_count": 31,
   "id": "cloudy-elder",
   "metadata": {
    "execution": {
     "iopub.execute_input": "2021-05-03T20:33:23.346773Z",
     "iopub.status.busy": "2021-05-03T20:33:23.345936Z",
     "iopub.status.idle": "2021-05-03T20:33:23.408225Z",
     "shell.execute_reply": "2021-05-03T20:33:23.408641Z"
    },
    "papermill": {
     "duration": 0.116223,
     "end_time": "2021-05-03T20:33:23.408821",
     "exception": false,
     "start_time": "2021-05-03T20:33:23.292598",
     "status": "completed"
    },
    "tags": []
   },
   "outputs": [
    {
     "data": {
      "text/html": [
       "<div>\n",
       "<style scoped>\n",
       "    .dataframe tbody tr th:only-of-type {\n",
       "        vertical-align: middle;\n",
       "    }\n",
       "\n",
       "    .dataframe tbody tr th {\n",
       "        vertical-align: top;\n",
       "    }\n",
       "\n",
       "    .dataframe thead th {\n",
       "        text-align: right;\n",
       "    }\n",
       "</style>\n",
       "<table border=\"1\" class=\"dataframe\">\n",
       "  <thead>\n",
       "    <tr style=\"text-align: right;\">\n",
       "      <th></th>\n",
       "      <th>title</th>\n",
       "      <th>authors</th>\n",
       "    </tr>\n",
       "  </thead>\n",
       "  <tbody>\n",
       "    <tr>\n",
       "      <th>7069</th>\n",
       "      <td>Сила подсознания, или Как изменить жизнь за 4 ...</td>\n",
       "      <td>Джо Диспенза</td>\n",
       "    </tr>\n",
       "    <tr>\n",
       "      <th>14794</th>\n",
       "      <td>Зулейха открывает глаза</td>\n",
       "      <td>Гузель Яхина</td>\n",
       "    </tr>\n",
       "    <tr>\n",
       "      <th>12353</th>\n",
       "      <td>Думай медленно… Решай быстро</td>\n",
       "      <td>Даниэль Канеман</td>\n",
       "    </tr>\n",
       "    <tr>\n",
       "      <th>13590</th>\n",
       "      <td>Черновик</td>\n",
       "      <td>Сергей Лукьяненко</td>\n",
       "    </tr>\n",
       "    <tr>\n",
       "      <th>5978</th>\n",
       "      <td>Ведьмак</td>\n",
       "      <td>Анджей Сапковский</td>\n",
       "    </tr>\n",
       "  </tbody>\n",
       "</table>\n",
       "</div>"
      ],
      "text/plain": [
       "                                                   title            authors\n",
       "7069   Сила подсознания, или Как изменить жизнь за 4 ...       Джо Диспенза\n",
       "14794                            Зулейха открывает глаза       Гузель Яхина\n",
       "12353                       Думай медленно… Решай быстро    Даниэль Канеман\n",
       "13590                                           Черновик  Сергей Лукьяненко\n",
       "5978                                             Ведьмак  Анджей Сапковский"
      ]
     },
     "execution_count": 31,
     "metadata": {},
     "output_type": "execute_result"
    }
   ],
   "source": [
    "top_5_2018 = interactions.iloc[np.where(interactions.start_date_year==2018)[0]]['item_id'].\\\n",
    "                    value_counts().head(5).index.to_list()\n",
    "top_5_2018_ind = [np.where(items.id==i)[0][0] for i in top_5_2018]\n",
    "items.iloc[top_5_2018_ind][['title','authors']]"
   ]
  },
  {
   "cell_type": "markdown",
   "id": "traditional-doubt",
   "metadata": {
    "papermill": {
     "duration": 0.050751,
     "end_time": "2021-05-03T20:33:23.510682",
     "exception": false,
     "start_time": "2021-05-03T20:33:23.459931",
     "status": "completed"
    },
    "tags": []
   },
   "source": [
    "<b> Топ 5 книг 2019 года (по количеству действий с ними). </b>"
   ]
  },
  {
   "cell_type": "code",
   "execution_count": 32,
   "id": "stainless-affairs",
   "metadata": {
    "execution": {
     "iopub.execute_input": "2021-05-03T20:33:23.618572Z",
     "iopub.status.busy": "2021-05-03T20:33:23.618000Z",
     "iopub.status.idle": "2021-05-03T20:33:23.671751Z",
     "shell.execute_reply": "2021-05-03T20:33:23.672170Z"
    },
    "papermill": {
     "duration": 0.111092,
     "end_time": "2021-05-03T20:33:23.672349",
     "exception": false,
     "start_time": "2021-05-03T20:33:23.561257",
     "status": "completed"
    },
    "tags": []
   },
   "outputs": [
    {
     "data": {
      "text/html": [
       "<div>\n",
       "<style scoped>\n",
       "    .dataframe tbody tr th:only-of-type {\n",
       "        vertical-align: middle;\n",
       "    }\n",
       "\n",
       "    .dataframe tbody tr th {\n",
       "        vertical-align: top;\n",
       "    }\n",
       "\n",
       "    .dataframe thead th {\n",
       "        text-align: right;\n",
       "    }\n",
       "</style>\n",
       "<table border=\"1\" class=\"dataframe\">\n",
       "  <thead>\n",
       "    <tr style=\"text-align: right;\">\n",
       "      <th></th>\n",
       "      <th>title</th>\n",
       "      <th>authors</th>\n",
       "    </tr>\n",
       "  </thead>\n",
       "  <tbody>\n",
       "    <tr>\n",
       "      <th>32256</th>\n",
       "      <td>Самая таинственная тайна и другие сюжеты</td>\n",
       "      <td>Борис Акунин</td>\n",
       "    </tr>\n",
       "    <tr>\n",
       "      <th>19152</th>\n",
       "      <td>Яблоки из сада Шлицбутера</td>\n",
       "      <td>Дина Рубина</td>\n",
       "    </tr>\n",
       "    <tr>\n",
       "      <th>49395</th>\n",
       "      <td>Зелёная миля</td>\n",
       "      <td>Стивен Кинг</td>\n",
       "    </tr>\n",
       "    <tr>\n",
       "      <th>20063</th>\n",
       "      <td>Сказки для идиотов (сборник)</td>\n",
       "      <td>Борис Акунин</td>\n",
       "    </tr>\n",
       "    <tr>\n",
       "      <th>39130</th>\n",
       "      <td>Противостояние</td>\n",
       "      <td>Стивен Кинг</td>\n",
       "    </tr>\n",
       "  </tbody>\n",
       "</table>\n",
       "</div>"
      ],
      "text/plain": [
       "                                          title       authors\n",
       "32256  Самая таинственная тайна и другие сюжеты  Борис Акунин\n",
       "19152                 Яблоки из сада Шлицбутера   Дина Рубина\n",
       "49395                              Зелёная миля   Стивен Кинг\n",
       "20063              Сказки для идиотов (сборник)  Борис Акунин\n",
       "39130                            Противостояние   Стивен Кинг"
      ]
     },
     "execution_count": 32,
     "metadata": {},
     "output_type": "execute_result"
    }
   ],
   "source": [
    "top_5_2019 = interactions.iloc[np.where(interactions.start_date_year==2019)[0]]['item_id'].\\\n",
    "                    value_counts().head(5).index.to_list()\n",
    "top_5_2019_ind = [np.where(items.id==i)[0][0] for i in top_5_2019]\n",
    "items.iloc[top_5_2019_ind][['title','authors']]"
   ]
  },
  {
   "cell_type": "code",
   "execution_count": 33,
   "id": "fresh-mailing",
   "metadata": {
    "execution": {
     "iopub.execute_input": "2021-05-03T20:33:23.781737Z",
     "iopub.status.busy": "2021-05-03T20:33:23.780793Z",
     "iopub.status.idle": "2021-05-03T20:33:24.521126Z",
     "shell.execute_reply": "2021-05-03T20:33:24.520619Z"
    },
    "papermill": {
     "duration": 0.798038,
     "end_time": "2021-05-03T20:33:24.521260",
     "exception": false,
     "start_time": "2021-05-03T20:33:23.723222",
     "status": "completed"
    },
    "tags": []
   },
   "outputs": [
    {
     "data": {
      "image/png": "[encoded data removed]",
      "text/plain": [
       "<Figure size 864x576 with 1 Axes>"
      ]
     },
     "metadata": {
      "needs_background": "light"
     },
     "output_type": "display_data"
    }
   ],
   "source": [
    "plt.figure(figsize=(12,8))\n",
    "interactions.merge(items,left_on='item_id',right_on='id')['authors'].value_counts().head(5).plot.bar()\n",
    "plt.title('Топ 5 самых популярных авторов',fontsize=14)\n",
    "plt.ylabel('Количество действий (за 2 года)',fontsize=14)\n",
    "plt.xticks(rotation=0);"
   ]
  },
  {
   "cell_type": "markdown",
   "id": "revised-dominant",
   "metadata": {
    "papermill": {
     "duration": 0.052077,
     "end_time": "2021-05-03T20:33:24.626070",
     "exception": false,
     "start_time": "2021-05-03T20:33:24.573993",
     "status": "completed"
    },
    "tags": []
   },
   "source": [
    "<b> Топ 10 популярных книг. </b>"
   ]
  },
  {
   "cell_type": "code",
   "execution_count": 34,
   "id": "indie-class",
   "metadata": {
    "execution": {
     "iopub.execute_input": "2021-05-03T20:33:24.733472Z",
     "iopub.status.busy": "2021-05-03T20:33:24.732829Z",
     "iopub.status.idle": "2021-05-03T20:33:25.373200Z",
     "shell.execute_reply": "2021-05-03T20:33:25.372674Z"
    },
    "papermill": {
     "duration": 0.694978,
     "end_time": "2021-05-03T20:33:25.373342",
     "exception": false,
     "start_time": "2021-05-03T20:33:24.678364",
     "status": "completed"
    },
    "tags": []
   },
   "outputs": [
    {
     "data": {
      "text/plain": [
       "Сила подсознания, или Как изменить жизнь за 4 недели    6582\n",
       "Самая таинственная тайна и другие сюжеты                2701\n",
       "Яблоки из сада Шлицбутера                               2571\n",
       "Противостояние                                          2380\n",
       "Зелёная миля                                            2341\n",
       "Снеговик                                                2307\n",
       "Сказки для идиотов (сборник)                            2294\n",
       "Зулейха открывает глаза                                 2233\n",
       "Инферно                                                 2144\n",
       "Шантарам                                                2077\n",
       "Name: title, dtype: int64"
      ]
     },
     "execution_count": 34,
     "metadata": {},
     "output_type": "execute_result"
    }
   ],
   "source": [
    "interactions.merge(items,left_on='item_id',right_on='id')['title'].value_counts().head(10)"
   ]
  },
  {
   "cell_type": "markdown",
   "id": "standing-sigma",
   "metadata": {
    "papermill": {
     "duration": 0.053285,
     "end_time": "2021-05-03T20:33:25.479790",
     "exception": false,
     "start_time": "2021-05-03T20:33:25.426505",
     "status": "completed"
    },
    "tags": []
   },
   "source": [
    "<b> Средние показатели юзеров (количество оценок и действий за 2 года). </b>"
   ]
  },
  {
   "cell_type": "code",
   "execution_count": 35,
   "id": "covered-rover",
   "metadata": {
    "execution": {
     "iopub.execute_input": "2021-05-03T20:33:25.598144Z",
     "iopub.status.busy": "2021-05-03T20:33:25.597465Z",
     "iopub.status.idle": "2021-05-03T20:33:25.691109Z",
     "shell.execute_reply": "2021-05-03T20:33:25.691534Z"
    },
    "papermill": {
     "duration": 0.159516,
     "end_time": "2021-05-03T20:33:25.691704",
     "exception": false,
     "start_time": "2021-05-03T20:33:25.532188",
     "status": "completed"
    },
    "tags": []
   },
   "outputs": [
    {
     "data": {
      "text/plain": [
       "rating     2.043714\n",
       "item_id    9.869679\n",
       "dtype: float64"
      ]
     },
     "execution_count": 35,
     "metadata": {},
     "output_type": "execute_result"
    }
   ],
   "source": [
    "interactions.groupby('user_id')[['rating','item_id']].count().mean()"
   ]
  },
  {
   "cell_type": "markdown",
   "id": "comparable-symphony",
   "metadata": {
    "papermill": {
     "duration": 0.052427,
     "end_time": "2021-05-03T20:33:25.797523",
     "exception": false,
     "start_time": "2021-05-03T20:33:25.745096",
     "status": "completed"
    },
    "tags": []
   },
   "source": [
    "<b> Топ 5 самых оцениваемых книг. </b>"
   ]
  },
  {
   "cell_type": "code",
   "execution_count": 36,
   "id": "affiliated-arbor",
   "metadata": {
    "execution": {
     "iopub.execute_input": "2021-05-03T20:33:25.907828Z",
     "iopub.status.busy": "2021-05-03T20:33:25.907208Z",
     "iopub.status.idle": "2021-05-03T20:33:25.987739Z",
     "shell.execute_reply": "2021-05-03T20:33:25.988277Z"
    },
    "papermill": {
     "duration": 0.136587,
     "end_time": "2021-05-03T20:33:25.988444",
     "exception": false,
     "start_time": "2021-05-03T20:33:25.851857",
     "status": "completed"
    },
    "tags": []
   },
   "outputs": [
    {
     "data": {
      "text/html": [
       "<div>\n",
       "<style scoped>\n",
       "    .dataframe tbody tr th:only-of-type {\n",
       "        vertical-align: middle;\n",
       "    }\n",
       "\n",
       "    .dataframe tbody tr th {\n",
       "        vertical-align: top;\n",
       "    }\n",
       "\n",
       "    .dataframe thead th {\n",
       "        text-align: right;\n",
       "    }\n",
       "</style>\n",
       "<table border=\"1\" class=\"dataframe\">\n",
       "  <thead>\n",
       "    <tr style=\"text-align: right;\">\n",
       "      <th></th>\n",
       "      <th>title</th>\n",
       "      <th>genres</th>\n",
       "      <th>authors</th>\n",
       "    </tr>\n",
       "  </thead>\n",
       "  <tbody>\n",
       "    <tr>\n",
       "      <th>14794</th>\n",
       "      <td>Зулейха открывает глаза</td>\n",
       "      <td>Современная русская литература</td>\n",
       "      <td>Гузель Яхина</td>\n",
       "    </tr>\n",
       "    <tr>\n",
       "      <th>13590</th>\n",
       "      <td>Черновик</td>\n",
       "      <td>Научная фантастика</td>\n",
       "      <td>Сергей Лукьяненко</td>\n",
       "    </tr>\n",
       "    <tr>\n",
       "      <th>40974</th>\n",
       "      <td>Дневники стюардессы. Лихие 90-е</td>\n",
       "      <td>Шпионские детективы,Короткие любовные романы,К...</td>\n",
       "      <td>Дарья Кова</td>\n",
       "    </tr>\n",
       "    <tr>\n",
       "      <th>20558</th>\n",
       "      <td>Снеговик</td>\n",
       "      <td>Зарубежные детективы,Триллеры,Полицейские дете...</td>\n",
       "      <td>Ю Несбё</td>\n",
       "    </tr>\n",
       "    <tr>\n",
       "      <th>27164</th>\n",
       "      <td>Богатый папа, бедный папа. Роберт Кийосаки (об...</td>\n",
       "      <td>Личная эффективность,Саморазвитие / личностный...</td>\n",
       "      <td>Том Батлер-Боудон</td>\n",
       "    </tr>\n",
       "  </tbody>\n",
       "</table>\n",
       "</div>"
      ],
      "text/plain": [
       "                                                   title  \\\n",
       "14794                            Зулейха открывает глаза   \n",
       "13590                                           Черновик   \n",
       "40974                    Дневники стюардессы. Лихие 90-е   \n",
       "20558                                           Снеговик   \n",
       "27164  Богатый папа, бедный папа. Роберт Кийосаки (об...   \n",
       "\n",
       "                                                  genres            authors  \n",
       "14794                     Современная русская литература       Гузель Яхина  \n",
       "13590                                 Научная фантастика  Сергей Лукьяненко  \n",
       "40974  Шпионские детективы,Короткие любовные романы,К...         Дарья Кова  \n",
       "20558  Зарубежные детективы,Триллеры,Полицейские дете...            Ю Несбё  \n",
       "27164  Личная эффективность,Саморазвитие / личностный...  Том Батлер-Боудон  "
      ]
     },
     "execution_count": 36,
     "metadata": {},
     "output_type": "execute_result"
    }
   ],
   "source": [
    "top_10 = interactions.groupby('item_id')['rating'].agg(['count']).\\\n",
    "                 sort_values(by=['count'],ascending=False).head(5)\n",
    "top_10_ind = [np.where(items.id==i)[0][0] for i in top_10.index.to_list()]\n",
    "items.iloc[top_10_ind][['title','genres','authors']]"
   ]
  },
  {
   "cell_type": "code",
   "execution_count": 37,
   "id": "immune-bookmark",
   "metadata": {
    "execution": {
     "iopub.execute_input": "2021-05-03T20:33:26.101119Z",
     "iopub.status.busy": "2021-05-03T20:33:26.100543Z",
     "iopub.status.idle": "2021-05-03T20:33:29.951973Z",
     "shell.execute_reply": "2021-05-03T20:33:29.951439Z"
    },
    "papermill": {
     "duration": 3.908788,
     "end_time": "2021-05-03T20:33:29.952155",
     "exception": false,
     "start_time": "2021-05-03T20:33:26.043367",
     "status": "completed"
    },
    "tags": []
   },
   "outputs": [
    {
     "data": {
      "text/plain": [
       "[('Любовное фэнтези', 118793),\n",
       " ('Современные детективы', 100252),\n",
       " ('Попаданцы', 96237),\n",
       " ('Современные любовные романы', 95394),\n",
       " ('Современная русская литература', 93468),\n",
       " ('Героическое фэнтези', 83024),\n",
       " ('Боевая фантастика', 75357),\n",
       " ('Зарубежные любовные романы', 71271),\n",
       " ('Саморазвитие / личностный рост', 68016),\n",
       " ('Боевое фэнтези', 64754)]"
      ]
     },
     "execution_count": 37,
     "metadata": {},
     "output_type": "execute_result"
    }
   ],
   "source": [
    "counter = Counter()\n",
    "for i in interactions.merge(items,left_on='item_id',right_on='id').genres:\n",
    "    if type(i)==float:\n",
    "        continue\n",
    "    item_genres = i.split(',')\n",
    "    counter.update(item_genres)\n",
    "counter.most_common(10)"
   ]
  },
  {
   "cell_type": "markdown",
   "id": "capital-indian",
   "metadata": {
    "papermill": {
     "duration": 0.054015,
     "end_time": "2021-05-03T20:33:30.059926",
     "exception": false,
     "start_time": "2021-05-03T20:33:30.005911",
     "status": "completed"
    },
    "tags": []
   },
   "source": [
    "## Информация о юзерах из теста"
   ]
  },
  {
   "cell_type": "code",
   "execution_count": 38,
   "id": "extraordinary-abuse",
   "metadata": {
    "execution": {
     "iopub.execute_input": "2021-05-03T20:33:30.172118Z",
     "iopub.status.busy": "2021-05-03T20:33:30.171196Z",
     "iopub.status.idle": "2021-05-03T20:33:31.912563Z",
     "shell.execute_reply": "2021-05-03T20:33:31.913064Z"
    },
    "papermill": {
     "duration": 1.7998,
     "end_time": "2021-05-03T20:33:31.913236",
     "exception": false,
     "start_time": "2021-05-03T20:33:30.113436",
     "status": "completed"
    },
    "tags": []
   },
   "outputs": [],
   "source": [
    "sample_ind = np.array([]) # индексы в таблице юзеров\n",
    "for i in sample.Id:\n",
    "    sample_ind = np.append(sample_ind,np.where(users.user_id==i)[0])"
   ]
  },
  {
   "cell_type": "code",
   "execution_count": 39,
   "id": "acting-engagement",
   "metadata": {
    "execution": {
     "iopub.execute_input": "2021-05-03T20:33:32.023479Z",
     "iopub.status.busy": "2021-05-03T20:33:32.022582Z",
     "iopub.status.idle": "2021-05-03T20:33:32.049630Z",
     "shell.execute_reply": "2021-05-03T20:33:32.050142Z"
    },
    "papermill": {
     "duration": 0.083818,
     "end_time": "2021-05-03T20:33:32.050310",
     "exception": false,
     "start_time": "2021-05-03T20:33:31.966492",
     "status": "completed"
    },
    "tags": []
   },
   "outputs": [
    {
     "data": {
      "text/plain": [
       "0.0    1846\n",
       "1.0     648\n",
       "Name: sex, dtype: int64"
      ]
     },
     "execution_count": 39,
     "metadata": {},
     "output_type": "execute_result"
    }
   ],
   "source": [
    "users.loc[sample_ind].sex.value_counts()"
   ]
  },
  {
   "cell_type": "code",
   "execution_count": 40,
   "id": "thermal-olive",
   "metadata": {
    "execution": {
     "iopub.execute_input": "2021-05-03T20:33:32.166707Z",
     "iopub.status.busy": "2021-05-03T20:33:32.165818Z",
     "iopub.status.idle": "2021-05-03T20:33:32.192712Z",
     "shell.execute_reply": "2021-05-03T20:33:32.193230Z"
    },
    "papermill": {
     "duration": 0.087768,
     "end_time": "2021-05-03T20:33:32.193396",
     "exception": false,
     "start_time": "2021-05-03T20:33:32.105628",
     "status": "completed"
    },
    "tags": []
   },
   "outputs": [
    {
     "data": {
      "text/plain": [
       "25_34     596\n",
       "35_44     564\n",
       "45_54     480\n",
       "18_24     428\n",
       "55_64     278\n",
       "65_inf    181\n",
       "Name: age, dtype: int64"
      ]
     },
     "execution_count": 40,
     "metadata": {},
     "output_type": "execute_result"
    }
   ],
   "source": [
    "users.loc[sample_ind].age.value_counts()"
   ]
  },
  {
   "cell_type": "markdown",
   "id": "italian-conversion",
   "metadata": {
    "papermill": {
     "duration": 0.053419,
     "end_time": "2021-05-03T20:33:32.300805",
     "exception": false,
     "start_time": "2021-05-03T20:33:32.247386",
     "status": "completed"
    },
    "tags": []
   },
   "source": [
    "<b> Количество пользователей, которых нет в базе (users). </b>"
   ]
  },
  {
   "cell_type": "code",
   "execution_count": 41,
   "id": "irish-closure",
   "metadata": {
    "execution": {
     "iopub.execute_input": "2021-05-03T20:33:32.411769Z",
     "iopub.status.busy": "2021-05-03T20:33:32.410911Z",
     "iopub.status.idle": "2021-05-03T20:33:32.434305Z",
     "shell.execute_reply": "2021-05-03T20:33:32.434786Z"
    },
    "papermill": {
     "duration": 0.080607,
     "end_time": "2021-05-03T20:33:32.434974",
     "exception": false,
     "start_time": "2021-05-03T20:33:32.354367",
     "status": "completed"
    },
    "tags": []
   },
   "outputs": [
    {
     "data": {
      "text/plain": [
       "547"
      ]
     },
     "execution_count": 41,
     "metadata": {},
     "output_type": "execute_result"
    }
   ],
   "source": [
    "len(set(sample.Id) - set(users.user_id)) # их довольно много"
   ]
  },
  {
   "cell_type": "markdown",
   "id": "supported-delivery",
   "metadata": {
    "papermill": {
     "duration": 0.053986,
     "end_time": "2021-05-03T20:33:32.542683",
     "exception": false,
     "start_time": "2021-05-03T20:33:32.488697",
     "status": "completed"
    },
    "tags": []
   },
   "source": [
    "<b> Пользователи, которые не проявляли никакой дейятельности за последние 2 года. </b>"
   ]
  },
  {
   "cell_type": "code",
   "execution_count": 42,
   "id": "white-cover",
   "metadata": {
    "execution": {
     "iopub.execute_input": "2021-05-03T20:33:32.653946Z",
     "iopub.status.busy": "2021-05-03T20:33:32.653073Z",
     "iopub.status.idle": "2021-05-03T20:33:32.962379Z",
     "shell.execute_reply": "2021-05-03T20:33:32.961840Z"
    },
    "papermill": {
     "duration": 0.366055,
     "end_time": "2021-05-03T20:33:32.962509",
     "exception": false,
     "start_time": "2021-05-03T20:33:32.596454",
     "status": "completed"
    },
    "tags": []
   },
   "outputs": [
    {
     "data": {
      "text/plain": [
       "{10309, 156235}"
      ]
     },
     "execution_count": 42,
     "metadata": {},
     "output_type": "execute_result"
    }
   ],
   "source": [
    "set(sample.Id) - set(interactions.user_id)"
   ]
  },
  {
   "cell_type": "code",
   "execution_count": 43,
   "id": "cathedral-rapid",
   "metadata": {
    "execution": {
     "iopub.execute_input": "2021-05-03T20:33:33.079571Z",
     "iopub.status.busy": "2021-05-03T20:33:33.078975Z",
     "iopub.status.idle": "2021-05-03T20:33:33.088120Z",
     "shell.execute_reply": "2021-05-03T20:33:33.088594Z"
    },
    "papermill": {
     "duration": 0.069596,
     "end_time": "2021-05-03T20:33:33.088768",
     "exception": false,
     "start_time": "2021-05-03T20:33:33.019172",
     "status": "completed"
    },
    "tags": []
   },
   "outputs": [
    {
     "data": {
      "text/html": [
       "<div>\n",
       "<style scoped>\n",
       "    .dataframe tbody tr th:only-of-type {\n",
       "        vertical-align: middle;\n",
       "    }\n",
       "\n",
       "    .dataframe tbody tr th {\n",
       "        vertical-align: top;\n",
       "    }\n",
       "\n",
       "    .dataframe thead th {\n",
       "        text-align: right;\n",
       "    }\n",
       "</style>\n",
       "<table border=\"1\" class=\"dataframe\">\n",
       "  <thead>\n",
       "    <tr style=\"text-align: right;\">\n",
       "      <th></th>\n",
       "      <th>user_id</th>\n",
       "      <th>age</th>\n",
       "      <th>sex</th>\n",
       "    </tr>\n",
       "  </thead>\n",
       "  <tbody>\n",
       "    <tr>\n",
       "      <th>8501</th>\n",
       "      <td>10309</td>\n",
       "      <td>18_24</td>\n",
       "      <td>0.0</td>\n",
       "    </tr>\n",
       "    <tr>\n",
       "      <th>129118</th>\n",
       "      <td>156235</td>\n",
       "      <td>25_34</td>\n",
       "      <td>1.0</td>\n",
       "    </tr>\n",
       "  </tbody>\n",
       "</table>\n",
       "</div>"
      ],
      "text/plain": [
       "        user_id    age  sex\n",
       "8501      10309  18_24  0.0\n",
       "129118   156235  25_34  1.0"
      ]
     },
     "execution_count": 43,
     "metadata": {},
     "output_type": "execute_result"
    }
   ],
   "source": [
    "users.loc[(users.user_id==10309)|(users.user_id==156235)]"
   ]
  },
  {
   "cell_type": "code",
   "execution_count": 44,
   "id": "numerous-breakdown",
   "metadata": {
    "execution": {
     "iopub.execute_input": "2021-05-03T20:33:33.203151Z",
     "iopub.status.busy": "2021-05-03T20:33:33.202524Z",
     "iopub.status.idle": "2021-05-03T20:33:38.638732Z",
     "shell.execute_reply": "2021-05-03T20:33:38.637666Z"
    },
    "papermill": {
     "duration": 5.494063,
     "end_time": "2021-05-03T20:33:38.638948",
     "exception": false,
     "start_time": "2021-05-03T20:33:33.144885",
     "status": "completed"
    },
    "tags": []
   },
   "outputs": [],
   "source": [
    "sample_ind = np.array([]) #индексы в таблице взаимодействий\n",
    "for i in sample.Id:\n",
    "    sample_ind = np.append(sample_ind,np.where(interactions.user_id==i)[0])"
   ]
  },
  {
   "cell_type": "markdown",
   "id": "caring-queen",
   "metadata": {
    "papermill": {
     "duration": 0.055163,
     "end_time": "2021-05-03T20:33:38.749956",
     "exception": false,
     "start_time": "2021-05-03T20:33:38.694793",
     "status": "completed"
    },
    "tags": []
   },
   "source": [
    "<b> Средние значения юзеров. </b>"
   ]
  },
  {
   "cell_type": "code",
   "execution_count": 45,
   "id": "comparative-marine",
   "metadata": {
    "execution": {
     "iopub.execute_input": "2021-05-03T20:33:38.867369Z",
     "iopub.status.busy": "2021-05-03T20:33:38.866568Z",
     "iopub.status.idle": "2021-05-03T20:33:38.889723Z",
     "shell.execute_reply": "2021-05-03T20:33:38.889201Z"
    },
    "papermill": {
     "duration": 0.084173,
     "end_time": "2021-05-03T20:33:38.889882",
     "exception": false,
     "start_time": "2021-05-03T20:33:38.805709",
     "status": "completed"
    },
    "tags": []
   },
   "outputs": [
    {
     "data": {
      "text/plain": [
       "rating       4.288439\n",
       "progress    64.765413\n",
       "dtype: float64"
      ]
     },
     "execution_count": 45,
     "metadata": {},
     "output_type": "execute_result"
    }
   ],
   "source": [
    "interactions.iloc[sample_ind][['rating','progress']].mean()"
   ]
  },
  {
   "cell_type": "markdown",
   "id": "flexible-annex",
   "metadata": {
    "papermill": {
     "duration": 0.055799,
     "end_time": "2021-05-03T20:33:39.002007",
     "exception": false,
     "start_time": "2021-05-03T20:33:38.946208",
     "status": "completed"
    },
    "tags": []
   },
   "source": [
    "<b> Данные юзеры намного больше оценивают и прочитывают книги.  \n",
    "    Для всего датасета среднее по юзерам: 2 оценки и 10 просмотров книг.</b>"
   ]
  },
  {
   "cell_type": "code",
   "execution_count": 46,
   "id": "military-frame",
   "metadata": {
    "execution": {
     "iopub.execute_input": "2021-05-03T20:33:39.123598Z",
     "iopub.status.busy": "2021-05-03T20:33:39.122837Z",
     "iopub.status.idle": "2021-05-03T20:33:39.149110Z",
     "shell.execute_reply": "2021-05-03T20:33:39.148405Z"
    },
    "papermill": {
     "duration": 0.089452,
     "end_time": "2021-05-03T20:33:39.149271",
     "exception": false,
     "start_time": "2021-05-03T20:33:39.059819",
     "status": "completed"
    },
    "tags": []
   },
   "outputs": [
    {
     "data": {
      "text/plain": [
       "rating      9.131185\n",
       "item_id    29.831380\n",
       "dtype: float64"
      ]
     },
     "execution_count": 46,
     "metadata": {},
     "output_type": "execute_result"
    }
   ],
   "source": [
    "interactions.iloc[sample_ind].groupby('user_id')[['rating','item_id']].count().mean()"
   ]
  },
  {
   "cell_type": "markdown",
   "id": "quiet-penny",
   "metadata": {
    "papermill": {
     "duration": 0.056229,
     "end_time": "2021-05-03T20:33:39.261986",
     "exception": false,
     "start_time": "2021-05-03T20:33:39.205757",
     "status": "completed"
    },
    "tags": []
   },
   "source": [
    "<b> Топ 10 самых популярных авторов. </b>"
   ]
  },
  {
   "cell_type": "code",
   "execution_count": 47,
   "id": "considered-afternoon",
   "metadata": {
    "execution": {
     "iopub.execute_input": "2021-05-03T20:33:39.379150Z",
     "iopub.status.busy": "2021-05-03T20:33:39.378383Z",
     "iopub.status.idle": "2021-05-03T20:33:39.445198Z",
     "shell.execute_reply": "2021-05-03T20:33:39.444601Z"
    },
    "papermill": {
     "duration": 0.127421,
     "end_time": "2021-05-03T20:33:39.445329",
     "exception": false,
     "start_time": "2021-05-03T20:33:39.317908",
     "status": "completed"
    },
    "tags": []
   },
   "outputs": [
    {
     "data": {
      "text/plain": [
       "authors\n",
       "Елена Звездная         1895\n",
       "Татьяна Полякова       1658\n",
       "Дарья Донцова          1465\n",
       "Татьяна Устинова        850\n",
       "Александра Маринина     849\n",
       "Борис Акунин            794\n",
       "Анна Гаврилова          678\n",
       "Артем Каменистый        651\n",
       "Роман Злотников         643\n",
       "Сергей Лукьяненко       639\n",
       "Name: authors, dtype: int64"
      ]
     },
     "execution_count": 47,
     "metadata": {},
     "output_type": "execute_result"
    }
   ],
   "source": [
    "merged_data = interactions.iloc[sample_ind].merge(items,left_on='item_id',right_on='id')\n",
    "merged_data.groupby('authors')['authors'].count().sort_values(ascending=False).head(10)"
   ]
  },
  {
   "cell_type": "markdown",
   "id": "coated-professional",
   "metadata": {
    "papermill": {
     "duration": 0.056,
     "end_time": "2021-05-03T20:33:39.557813",
     "exception": false,
     "start_time": "2021-05-03T20:33:39.501813",
     "status": "completed"
    },
    "tags": []
   },
   "source": [
    "<b> Топ 10 самых популярных книг. </b>"
   ]
  },
  {
   "cell_type": "code",
   "execution_count": 48,
   "id": "further-rwanda",
   "metadata": {
    "execution": {
     "iopub.execute_input": "2021-05-03T20:33:39.690054Z",
     "iopub.status.busy": "2021-05-03T20:33:39.689411Z",
     "iopub.status.idle": "2021-05-03T20:33:39.749781Z",
     "shell.execute_reply": "2021-05-03T20:33:39.749158Z"
    },
    "papermill": {
     "duration": 0.135683,
     "end_time": "2021-05-03T20:33:39.749950",
     "exception": false,
     "start_time": "2021-05-03T20:33:39.614267",
     "status": "completed"
    },
    "tags": []
   },
   "outputs": [
    {
     "data": {
      "text/plain": [
       "title\n",
       "Сила подсознания, или Как изменить жизнь за 4 недели                      99\n",
       "Ошибка                                                                    82\n",
       "Снеговик                                                                  76\n",
       "Невеста Смерти                                                            72\n",
       "Земное притяжение                                                         71\n",
       "Цена вопроса. Том 1                                                       69\n",
       "Долина драконов. Магическая Практика                                      68\n",
       "Яблоки из сада Шлицбутера                                                 67\n",
       "Струны волшебства. Книга первая. Страшные сказки закрытого королевства    67\n",
       "Чудовищное предложение                                                    66\n",
       "Name: title, dtype: int64"
      ]
     },
     "execution_count": 48,
     "metadata": {},
     "output_type": "execute_result"
    }
   ],
   "source": [
    "merged_data.groupby('title')['title'].count().sort_values(ascending=False).head(10)"
   ]
  },
  {
   "cell_type": "markdown",
   "id": "charitable-conducting",
   "metadata": {
    "papermill": {
     "duration": 0.057105,
     "end_time": "2021-05-03T20:33:39.864795",
     "exception": false,
     "start_time": "2021-05-03T20:33:39.807690",
     "status": "completed"
    },
    "tags": []
   },
   "source": [
    "<b> Топ 10 популярных жанров. </b>"
   ]
  },
  {
   "cell_type": "code",
   "execution_count": 49,
   "id": "norman-threshold",
   "metadata": {
    "execution": {
     "iopub.execute_input": "2021-05-03T20:33:40.002083Z",
     "iopub.status.busy": "2021-05-03T20:33:39.996770Z",
     "iopub.status.idle": "2021-05-03T20:33:40.190192Z",
     "shell.execute_reply": "2021-05-03T20:33:40.189672Z"
    },
    "papermill": {
     "duration": 0.268599,
     "end_time": "2021-05-03T20:33:40.190343",
     "exception": false,
     "start_time": "2021-05-03T20:33:39.921744",
     "status": "completed"
    },
    "tags": []
   },
   "outputs": [
    {
     "data": {
      "text/plain": [
       "[('Любовное фэнтези', 18049),\n",
       " ('Попаданцы', 13734),\n",
       " ('Героическое фэнтези', 9052),\n",
       " ('Современные любовные романы', 8609),\n",
       " ('Боевая фантастика', 8440),\n",
       " ('Современные детективы', 7880),\n",
       " ('Боевое фэнтези', 6412),\n",
       " ('Книги про волшебников', 5580),\n",
       " ('Зарубежные любовные романы', 5150),\n",
       " ('Магические академии', 5092)]"
      ]
     },
     "execution_count": 49,
     "metadata": {},
     "output_type": "execute_result"
    }
   ],
   "source": [
    "counter = Counter()\n",
    "for i in merged_data.genres:\n",
    "    if type(i)==float:\n",
    "        continue\n",
    "    item_genres = i.split(',')\n",
    "    counter.update(item_genres)\n",
    "counter.most_common(10)"
   ]
  },
  {
   "cell_type": "markdown",
   "id": "knowing-credit",
   "metadata": {
    "papermill": {
     "duration": 0.056562,
     "end_time": "2021-05-03T20:33:40.304328",
     "exception": false,
     "start_time": "2021-05-03T20:33:40.247766",
     "status": "completed"
    },
    "tags": []
   },
   "source": [
    "<b> Топ 10 самых оцениваемых книг. </b> "
   ]
  },
  {
   "cell_type": "code",
   "execution_count": 50,
   "id": "living-alabama",
   "metadata": {
    "execution": {
     "iopub.execute_input": "2021-05-03T20:33:40.425210Z",
     "iopub.status.busy": "2021-05-03T20:33:40.424342Z",
     "iopub.status.idle": "2021-05-03T20:33:40.452043Z",
     "shell.execute_reply": "2021-05-03T20:33:40.452478Z"
    },
    "papermill": {
     "duration": 0.090831,
     "end_time": "2021-05-03T20:33:40.452636",
     "exception": false,
     "start_time": "2021-05-03T20:33:40.361805",
     "status": "completed"
    },
    "tags": []
   },
   "outputs": [
    {
     "data": {
      "text/html": [
       "<div>\n",
       "<style scoped>\n",
       "    .dataframe tbody tr th:only-of-type {\n",
       "        vertical-align: middle;\n",
       "    }\n",
       "\n",
       "    .dataframe tbody tr th {\n",
       "        vertical-align: top;\n",
       "    }\n",
       "\n",
       "    .dataframe thead th {\n",
       "        text-align: right;\n",
       "    }\n",
       "</style>\n",
       "<table border=\"1\" class=\"dataframe\">\n",
       "  <thead>\n",
       "    <tr style=\"text-align: right;\">\n",
       "      <th></th>\n",
       "      <th>title</th>\n",
       "      <th>genres</th>\n",
       "      <th>authors</th>\n",
       "    </tr>\n",
       "  </thead>\n",
       "  <tbody>\n",
       "    <tr>\n",
       "      <th>48362</th>\n",
       "      <td>Вдова мастера теней</td>\n",
       "      <td>Героическое фэнтези,Любовное фэнтези</td>\n",
       "      <td>Валентина Савенко</td>\n",
       "    </tr>\n",
       "    <tr>\n",
       "      <th>42671</th>\n",
       "      <td>Магическая Экспедиция</td>\n",
       "      <td>Книги про волшебников,Любовное фэнтези,Фэнтези...</td>\n",
       "      <td>Елена Звездная</td>\n",
       "    </tr>\n",
       "    <tr>\n",
       "      <th>47821</th>\n",
       "      <td>Магическая сделка</td>\n",
       "      <td>Книги про волшебников,Любовное фэнтези,Фэнтези...</td>\n",
       "      <td>Елена Звездная</td>\n",
       "    </tr>\n",
       "    <tr>\n",
       "      <th>47453</th>\n",
       "      <td>Мечта светлой тьмы</td>\n",
       "      <td>Любовное фэнтези</td>\n",
       "      <td>Валентина Савенко</td>\n",
       "    </tr>\n",
       "    <tr>\n",
       "      <th>33069</th>\n",
       "      <td>Земное притяжение</td>\n",
       "      <td>Современные детективы,Остросюжетные любовные р...</td>\n",
       "      <td>Татьяна Устинова</td>\n",
       "    </tr>\n",
       "    <tr>\n",
       "      <th>41549</th>\n",
       "      <td>Долина драконов. Магическая Практика</td>\n",
       "      <td>Любовное фэнтези,Фэнтези про драконов,Магическ...</td>\n",
       "      <td>Елена Звездная</td>\n",
       "    </tr>\n",
       "    <tr>\n",
       "      <th>42115</th>\n",
       "      <td>Струны волшебства. Книга первая. Страшные сказ...</td>\n",
       "      <td>Героическое фэнтези,Книги про волшебников</td>\n",
       "      <td>Милена Завойчинская,Милена Завойчинская</td>\n",
       "    </tr>\n",
       "    <tr>\n",
       "      <th>47189</th>\n",
       "      <td>Струны волшебства. Книга вторая. Цветная музык...</td>\n",
       "      <td>Героическое фэнтези,Книги про волшебников,Любо...</td>\n",
       "      <td>Милена Завойчинская</td>\n",
       "    </tr>\n",
       "    <tr>\n",
       "      <th>43122</th>\n",
       "      <td>Невеста Смерти</td>\n",
       "      <td>Детективное фэнтези,Любовное фэнтези</td>\n",
       "      <td>Лена Летняя</td>\n",
       "    </tr>\n",
       "    <tr>\n",
       "      <th>40539</th>\n",
       "      <td>Мертвые Игры. Книга третья. О темных лордах и ...</td>\n",
       "      <td>Книги про волшебников,Любовное фэнтези</td>\n",
       "      <td>Елена Звездная</td>\n",
       "    </tr>\n",
       "  </tbody>\n",
       "</table>\n",
       "</div>"
      ],
      "text/plain": [
       "                                                   title  \\\n",
       "48362                                Вдова мастера теней   \n",
       "42671                              Магическая Экспедиция   \n",
       "47821                                  Магическая сделка   \n",
       "47453                                 Мечта светлой тьмы   \n",
       "33069                                  Земное притяжение   \n",
       "41549               Долина драконов. Магическая Практика   \n",
       "42115  Струны волшебства. Книга первая. Страшные сказ...   \n",
       "47189  Струны волшебства. Книга вторая. Цветная музык...   \n",
       "43122                                     Невеста Смерти   \n",
       "40539  Мертвые Игры. Книга третья. О темных лордах и ...   \n",
       "\n",
       "                                                  genres  \\\n",
       "48362               Героическое фэнтези,Любовное фэнтези   \n",
       "42671  Книги про волшебников,Любовное фэнтези,Фэнтези...   \n",
       "47821  Книги про волшебников,Любовное фэнтези,Фэнтези...   \n",
       "47453                                   Любовное фэнтези   \n",
       "33069  Современные детективы,Остросюжетные любовные р...   \n",
       "41549  Любовное фэнтези,Фэнтези про драконов,Магическ...   \n",
       "42115          Героическое фэнтези,Книги про волшебников   \n",
       "47189  Героическое фэнтези,Книги про волшебников,Любо...   \n",
       "43122               Детективное фэнтези,Любовное фэнтези   \n",
       "40539             Книги про волшебников,Любовное фэнтези   \n",
       "\n",
       "                                       authors  \n",
       "48362                        Валентина Савенко  \n",
       "42671                           Елена Звездная  \n",
       "47821                           Елена Звездная  \n",
       "47453                        Валентина Савенко  \n",
       "33069                         Татьяна Устинова  \n",
       "41549                           Елена Звездная  \n",
       "42115  Милена Завойчинская,Милена Завойчинская  \n",
       "47189                      Милена Завойчинская  \n",
       "43122                              Лена Летняя  \n",
       "40539                           Елена Звездная  "
      ]
     },
     "execution_count": 50,
     "metadata": {},
     "output_type": "execute_result"
    }
   ],
   "source": [
    "top_10_rated = merged_data.groupby('item_id').rating.count().sort_values(ascending=False).head(10)\n",
    "top_10_rated_ind = [np.where(items.id==i)[0][0] for i in top_10_rated.index.to_list()]\n",
    "items.iloc[top_10_rated_ind][['title','genres','authors']]"
   ]
  },
  {
   "cell_type": "markdown",
   "id": "absolute-composer",
   "metadata": {
    "papermill": {
     "duration": 0.056889,
     "end_time": "2021-05-03T20:33:40.566885",
     "exception": false,
     "start_time": "2021-05-03T20:33:40.509996",
     "status": "completed"
    },
    "tags": []
   },
   "source": [
    "<b> Доминирующее количество книг жанра фэнтези.</b>"
   ]
  },
  {
   "cell_type": "markdown",
   "id": "talented-afternoon",
   "metadata": {
    "papermill": {
     "duration": 0.057199,
     "end_time": "2021-05-03T20:33:40.681290",
     "exception": false,
     "start_time": "2021-05-03T20:33:40.624091",
     "status": "completed"
    },
    "tags": []
   },
   "source": [
    "Для теста были выбраны хорошие пользователи, которые любят читать, оценивать книги и их оценки довольно высокие. Предпочнения по жанрам и любимым авторам пользователей ясны, поэтому предположить, какую книгу они прочитают становится проще. И похоже в то время была система рекоммендаций non-personolized. "
   ]
  },
  {
   "cell_type": "markdown",
   "id": "sapphire-daily",
   "metadata": {
    "papermill": {
     "duration": 0.057104,
     "end_time": "2021-05-03T20:33:40.795814",
     "exception": false,
     "start_time": "2021-05-03T20:33:40.738710",
     "status": "completed"
    },
    "tags": []
   },
   "source": [
    "MTS Библиотека прекрасный сервис, в котором большое количество бесплатных книг. Количество книг и пользователей с каждым годом растет. Данных вполне достаточно, чтобы узнать предпочения юзеров. Однако есть несколько сложностей. Например, из этого датасета довольно сложно предположить, хочет пользователь книгу или же аудиокнигу и какое издание."
   ]
  }
 ],
 "metadata": {
  "kernelspec": {
   "display_name": "Python 3",
   "language": "python",
   "name": "python3"
  },
  "language_info": {
   "codemirror_mode": {
    "name": "ipython",
    "version": 3
   },
   "file_extension": ".py",
   "mimetype": "text/x-python",
   "name": "python",
   "nbconvert_exporter": "python",
   "pygments_lexer": "ipython3",
   "version": "3.7.10"
  },
  "papermill": {
   "default_parameters": {},
   "duration": 46.420459,
   "end_time": "2021-05-03T20:33:41.462278",
   "environment_variables": {},
   "exception": null,
   "input_path": "__notebook__.ipynb",
   "output_path": "__notebook__.ipynb",
   "parameters": {},
   "start_time": "2021-05-03T20:32:55.041819",
   "version": "2.3.2"
  }
 },
 "nbformat": 4,
 "nbformat_minor": 5
}
